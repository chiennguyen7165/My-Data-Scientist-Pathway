{
 "cells": [
  {
   "cell_type": "markdown",
   "metadata": {},
   "source": [
    "# Welcome to the ~~Dark~~ Data Side:\n",
    "## Which Star Wars movie do people like most and who is most likely to have seen Star Wars?\n",
    "In this project I focused on two things that I would love feedback on:\n",
    "\n",
    "- Clear visualizations that convey information and add to the analysis. The side-by-side bar graphs were really fun to make, but I also can’t quite put my finger on why they still seem to be missing something/the data story doesn’t “jump out”\n",
    "- Education level analysis. I found it really interesting that education-level seemed to impact who had seen star wars so I did some rough statistical significance testing by dusting off my stats book and re-learning Chi Squared, but I’m not sure if there is a better way to show this in a notebook/project setting (or if it is even necessary)."
   ]
  },
  {
   "cell_type": "markdown",
   "metadata": {},
   "source": [
    "## Introduce the dataset\n",
    "- FiveThirtyEight asked the question **\"Does the rest of America realize that \"The Empire Strikes Back\" is clearly the best of the bunch?\"**\n",
    "\n",
    "- The team needed to collect data addressing this question. To do this, they surveyed Star Wars fans using the online tool SurveyMonkey. They received 835 total responses, which you can download from their [GitHub repository](https://github.com/fivethirtyeight/data/tree/master/star-wars-survey)."
   ]
  },
  {
   "cell_type": "markdown",
   "metadata": {},
   "source": [
    "Some of the variables in this dataset include:\n",
    "\n",
    "| Variable | Description |\n",
    "|:---|:---|\n",
    "| RespondentID  |  An   anonymized ID for the respondent (person taking the survey) |\n",
    "| Gender  |  the respondent's gender |\n",
    "| Age  |  the respondent's age |\n",
    "| Household   Income  |  the respondent's income |\n",
    "| Education  |  the respondent's education level |\n",
    "| Location   (Census Region)  |  the respondent's location |\n",
    "| Have you   seen any of the 6 films in the Star Wars franchise?  |  Yes/No |\n",
    "| Do you   consider yourself to be a fan of the Star Wars film franchise?  |  Yes/No |\n",
    "\n",
    "There are several other columns containing answers to questions about the Star Wars movies. For some questions, the respondent had to check one or more boxes. This type of data is difficult to represent in a column. As a result, this dataset needs a lot of cleaning."
   ]
  },
  {
   "cell_type": "markdown",
   "metadata": {},
   "source": [
    "## Looking at the initial dataset"
   ]
  },
  {
   "cell_type": "code",
   "execution_count": 1,
   "metadata": {},
   "outputs": [],
   "source": [
    "import pandas as pd\n",
    "import numpy as np\n",
    "import matplotlib.pyplot as plt\n",
    "%matplotlib inline\n",
    "star_wars = pd.read_csv(\"StarWars.csv\", encoding=\"ISO-8859-1\")"
   ]
  },
  {
   "cell_type": "code",
   "execution_count": 2,
   "metadata": {},
   "outputs": [
    {
     "data": {
      "text/html": [
       "<div>\n",
       "<style scoped>\n",
       "    .dataframe tbody tr th:only-of-type {\n",
       "        vertical-align: middle;\n",
       "    }\n",
       "\n",
       "    .dataframe tbody tr th {\n",
       "        vertical-align: top;\n",
       "    }\n",
       "\n",
       "    .dataframe thead th {\n",
       "        text-align: right;\n",
       "    }\n",
       "</style>\n",
       "<table border=\"1\" class=\"dataframe\">\n",
       "  <thead>\n",
       "    <tr style=\"text-align: right;\">\n",
       "      <th></th>\n",
       "      <th>RespondentID</th>\n",
       "      <th>Have you seen any of the 6 films in the Star Wars franchise?</th>\n",
       "      <th>Do you consider yourself to be a fan of the Star Wars film franchise?</th>\n",
       "      <th>Which of the following Star Wars films have you seen? Please select all that apply.</th>\n",
       "      <th>Unnamed: 4</th>\n",
       "      <th>Unnamed: 5</th>\n",
       "      <th>Unnamed: 6</th>\n",
       "      <th>Unnamed: 7</th>\n",
       "      <th>Unnamed: 8</th>\n",
       "      <th>Please rank the Star Wars films in order of preference with 1 being your favorite film in the franchise and 6 being your least favorite film.</th>\n",
       "      <th>...</th>\n",
       "      <th>Unnamed: 28</th>\n",
       "      <th>Which character shot first?</th>\n",
       "      <th>Are you familiar with the Expanded Universe?</th>\n",
       "      <th>Do you consider yourself to be a fan of the Expanded Universe?æ</th>\n",
       "      <th>Do you consider yourself to be a fan of the Star Trek franchise?</th>\n",
       "      <th>Gender</th>\n",
       "      <th>Age</th>\n",
       "      <th>Household Income</th>\n",
       "      <th>Education</th>\n",
       "      <th>Location (Census Region)</th>\n",
       "    </tr>\n",
       "  </thead>\n",
       "  <tbody>\n",
       "    <tr>\n",
       "      <th>0</th>\n",
       "      <td>NaN</td>\n",
       "      <td>Response</td>\n",
       "      <td>Response</td>\n",
       "      <td>Star Wars: Episode I  The Phantom Menace</td>\n",
       "      <td>Star Wars: Episode II  Attack of the Clones</td>\n",
       "      <td>Star Wars: Episode III  Revenge of the Sith</td>\n",
       "      <td>Star Wars: Episode IV  A New Hope</td>\n",
       "      <td>Star Wars: Episode V The Empire Strikes Back</td>\n",
       "      <td>Star Wars: Episode VI Return of the Jedi</td>\n",
       "      <td>Star Wars: Episode I  The Phantom Menace</td>\n",
       "      <td>...</td>\n",
       "      <td>Yoda</td>\n",
       "      <td>Response</td>\n",
       "      <td>Response</td>\n",
       "      <td>Response</td>\n",
       "      <td>Response</td>\n",
       "      <td>Response</td>\n",
       "      <td>Response</td>\n",
       "      <td>Response</td>\n",
       "      <td>Response</td>\n",
       "      <td>Response</td>\n",
       "    </tr>\n",
       "    <tr>\n",
       "      <th>1</th>\n",
       "      <td>3.292880e+09</td>\n",
       "      <td>Yes</td>\n",
       "      <td>Yes</td>\n",
       "      <td>Star Wars: Episode I  The Phantom Menace</td>\n",
       "      <td>Star Wars: Episode II  Attack of the Clones</td>\n",
       "      <td>Star Wars: Episode III  Revenge of the Sith</td>\n",
       "      <td>Star Wars: Episode IV  A New Hope</td>\n",
       "      <td>Star Wars: Episode V The Empire Strikes Back</td>\n",
       "      <td>Star Wars: Episode VI Return of the Jedi</td>\n",
       "      <td>3</td>\n",
       "      <td>...</td>\n",
       "      <td>Very favorably</td>\n",
       "      <td>I don't understand this question</td>\n",
       "      <td>Yes</td>\n",
       "      <td>No</td>\n",
       "      <td>No</td>\n",
       "      <td>Male</td>\n",
       "      <td>18-29</td>\n",
       "      <td>NaN</td>\n",
       "      <td>High school degree</td>\n",
       "      <td>South Atlantic</td>\n",
       "    </tr>\n",
       "    <tr>\n",
       "      <th>2</th>\n",
       "      <td>3.292880e+09</td>\n",
       "      <td>No</td>\n",
       "      <td>NaN</td>\n",
       "      <td>NaN</td>\n",
       "      <td>NaN</td>\n",
       "      <td>NaN</td>\n",
       "      <td>NaN</td>\n",
       "      <td>NaN</td>\n",
       "      <td>NaN</td>\n",
       "      <td>NaN</td>\n",
       "      <td>...</td>\n",
       "      <td>NaN</td>\n",
       "      <td>NaN</td>\n",
       "      <td>NaN</td>\n",
       "      <td>NaN</td>\n",
       "      <td>Yes</td>\n",
       "      <td>Male</td>\n",
       "      <td>18-29</td>\n",
       "      <td>$0 - $24,999</td>\n",
       "      <td>Bachelor degree</td>\n",
       "      <td>West South Central</td>\n",
       "    </tr>\n",
       "    <tr>\n",
       "      <th>3</th>\n",
       "      <td>3.292765e+09</td>\n",
       "      <td>Yes</td>\n",
       "      <td>No</td>\n",
       "      <td>Star Wars: Episode I  The Phantom Menace</td>\n",
       "      <td>Star Wars: Episode II  Attack of the Clones</td>\n",
       "      <td>Star Wars: Episode III  Revenge of the Sith</td>\n",
       "      <td>NaN</td>\n",
       "      <td>NaN</td>\n",
       "      <td>NaN</td>\n",
       "      <td>1</td>\n",
       "      <td>...</td>\n",
       "      <td>Unfamiliar (N/A)</td>\n",
       "      <td>I don't understand this question</td>\n",
       "      <td>No</td>\n",
       "      <td>NaN</td>\n",
       "      <td>No</td>\n",
       "      <td>Male</td>\n",
       "      <td>18-29</td>\n",
       "      <td>$0 - $24,999</td>\n",
       "      <td>High school degree</td>\n",
       "      <td>West North Central</td>\n",
       "    </tr>\n",
       "    <tr>\n",
       "      <th>4</th>\n",
       "      <td>3.292763e+09</td>\n",
       "      <td>Yes</td>\n",
       "      <td>Yes</td>\n",
       "      <td>Star Wars: Episode I  The Phantom Menace</td>\n",
       "      <td>Star Wars: Episode II  Attack of the Clones</td>\n",
       "      <td>Star Wars: Episode III  Revenge of the Sith</td>\n",
       "      <td>Star Wars: Episode IV  A New Hope</td>\n",
       "      <td>Star Wars: Episode V The Empire Strikes Back</td>\n",
       "      <td>Star Wars: Episode VI Return of the Jedi</td>\n",
       "      <td>5</td>\n",
       "      <td>...</td>\n",
       "      <td>Very favorably</td>\n",
       "      <td>I don't understand this question</td>\n",
       "      <td>No</td>\n",
       "      <td>NaN</td>\n",
       "      <td>Yes</td>\n",
       "      <td>Male</td>\n",
       "      <td>18-29</td>\n",
       "      <td>$100,000 - $149,999</td>\n",
       "      <td>Some college or Associate degree</td>\n",
       "      <td>West North Central</td>\n",
       "    </tr>\n",
       "    <tr>\n",
       "      <th>5</th>\n",
       "      <td>3.292731e+09</td>\n",
       "      <td>Yes</td>\n",
       "      <td>Yes</td>\n",
       "      <td>Star Wars: Episode I  The Phantom Menace</td>\n",
       "      <td>Star Wars: Episode II  Attack of the Clones</td>\n",
       "      <td>Star Wars: Episode III  Revenge of the Sith</td>\n",
       "      <td>Star Wars: Episode IV  A New Hope</td>\n",
       "      <td>Star Wars: Episode V The Empire Strikes Back</td>\n",
       "      <td>Star Wars: Episode VI Return of the Jedi</td>\n",
       "      <td>5</td>\n",
       "      <td>...</td>\n",
       "      <td>Somewhat favorably</td>\n",
       "      <td>Greedo</td>\n",
       "      <td>Yes</td>\n",
       "      <td>No</td>\n",
       "      <td>No</td>\n",
       "      <td>Male</td>\n",
       "      <td>18-29</td>\n",
       "      <td>$100,000 - $149,999</td>\n",
       "      <td>Some college or Associate degree</td>\n",
       "      <td>West North Central</td>\n",
       "    </tr>\n",
       "    <tr>\n",
       "      <th>6</th>\n",
       "      <td>3.292719e+09</td>\n",
       "      <td>Yes</td>\n",
       "      <td>Yes</td>\n",
       "      <td>Star Wars: Episode I  The Phantom Menace</td>\n",
       "      <td>Star Wars: Episode II  Attack of the Clones</td>\n",
       "      <td>Star Wars: Episode III  Revenge of the Sith</td>\n",
       "      <td>Star Wars: Episode IV  A New Hope</td>\n",
       "      <td>Star Wars: Episode V The Empire Strikes Back</td>\n",
       "      <td>Star Wars: Episode VI Return of the Jedi</td>\n",
       "      <td>1</td>\n",
       "      <td>...</td>\n",
       "      <td>Very favorably</td>\n",
       "      <td>Han</td>\n",
       "      <td>Yes</td>\n",
       "      <td>No</td>\n",
       "      <td>Yes</td>\n",
       "      <td>Male</td>\n",
       "      <td>18-29</td>\n",
       "      <td>$25,000 - $49,999</td>\n",
       "      <td>Bachelor degree</td>\n",
       "      <td>Middle Atlantic</td>\n",
       "    </tr>\n",
       "    <tr>\n",
       "      <th>7</th>\n",
       "      <td>3.292685e+09</td>\n",
       "      <td>Yes</td>\n",
       "      <td>Yes</td>\n",
       "      <td>Star Wars: Episode I  The Phantom Menace</td>\n",
       "      <td>Star Wars: Episode II  Attack of the Clones</td>\n",
       "      <td>Star Wars: Episode III  Revenge of the Sith</td>\n",
       "      <td>Star Wars: Episode IV  A New Hope</td>\n",
       "      <td>Star Wars: Episode V The Empire Strikes Back</td>\n",
       "      <td>Star Wars: Episode VI Return of the Jedi</td>\n",
       "      <td>6</td>\n",
       "      <td>...</td>\n",
       "      <td>Very favorably</td>\n",
       "      <td>Han</td>\n",
       "      <td>Yes</td>\n",
       "      <td>No</td>\n",
       "      <td>No</td>\n",
       "      <td>Male</td>\n",
       "      <td>18-29</td>\n",
       "      <td>NaN</td>\n",
       "      <td>High school degree</td>\n",
       "      <td>East North Central</td>\n",
       "    </tr>\n",
       "    <tr>\n",
       "      <th>8</th>\n",
       "      <td>3.292664e+09</td>\n",
       "      <td>Yes</td>\n",
       "      <td>Yes</td>\n",
       "      <td>Star Wars: Episode I  The Phantom Menace</td>\n",
       "      <td>Star Wars: Episode II  Attack of the Clones</td>\n",
       "      <td>Star Wars: Episode III  Revenge of the Sith</td>\n",
       "      <td>Star Wars: Episode IV  A New Hope</td>\n",
       "      <td>Star Wars: Episode V The Empire Strikes Back</td>\n",
       "      <td>Star Wars: Episode VI Return of the Jedi</td>\n",
       "      <td>4</td>\n",
       "      <td>...</td>\n",
       "      <td>Very favorably</td>\n",
       "      <td>Han</td>\n",
       "      <td>No</td>\n",
       "      <td>NaN</td>\n",
       "      <td>Yes</td>\n",
       "      <td>Male</td>\n",
       "      <td>18-29</td>\n",
       "      <td>NaN</td>\n",
       "      <td>High school degree</td>\n",
       "      <td>South Atlantic</td>\n",
       "    </tr>\n",
       "    <tr>\n",
       "      <th>9</th>\n",
       "      <td>3.292654e+09</td>\n",
       "      <td>Yes</td>\n",
       "      <td>Yes</td>\n",
       "      <td>Star Wars: Episode I  The Phantom Menace</td>\n",
       "      <td>Star Wars: Episode II  Attack of the Clones</td>\n",
       "      <td>Star Wars: Episode III  Revenge of the Sith</td>\n",
       "      <td>Star Wars: Episode IV  A New Hope</td>\n",
       "      <td>Star Wars: Episode V The Empire Strikes Back</td>\n",
       "      <td>Star Wars: Episode VI Return of the Jedi</td>\n",
       "      <td>5</td>\n",
       "      <td>...</td>\n",
       "      <td>Somewhat favorably</td>\n",
       "      <td>Han</td>\n",
       "      <td>No</td>\n",
       "      <td>NaN</td>\n",
       "      <td>No</td>\n",
       "      <td>Male</td>\n",
       "      <td>18-29</td>\n",
       "      <td>$0 - $24,999</td>\n",
       "      <td>Some college or Associate degree</td>\n",
       "      <td>South Atlantic</td>\n",
       "    </tr>\n",
       "  </tbody>\n",
       "</table>\n",
       "<p>10 rows × 38 columns</p>\n",
       "</div>"
      ],
      "text/plain": [
       "   RespondentID Have you seen any of the 6 films in the Star Wars franchise?  \\\n",
       "0           NaN                                           Response             \n",
       "1  3.292880e+09                                                Yes             \n",
       "2  3.292880e+09                                                 No             \n",
       "3  3.292765e+09                                                Yes             \n",
       "4  3.292763e+09                                                Yes             \n",
       "5  3.292731e+09                                                Yes             \n",
       "6  3.292719e+09                                                Yes             \n",
       "7  3.292685e+09                                                Yes             \n",
       "8  3.292664e+09                                                Yes             \n",
       "9  3.292654e+09                                                Yes             \n",
       "\n",
       "  Do you consider yourself to be a fan of the Star Wars film franchise?  \\\n",
       "0                                           Response                      \n",
       "1                                                Yes                      \n",
       "2                                                NaN                      \n",
       "3                                                 No                      \n",
       "4                                                Yes                      \n",
       "5                                                Yes                      \n",
       "6                                                Yes                      \n",
       "7                                                Yes                      \n",
       "8                                                Yes                      \n",
       "9                                                Yes                      \n",
       "\n",
       "  Which of the following Star Wars films have you seen? Please select all that apply.  \\\n",
       "0           Star Wars: Episode I  The Phantom Menace                                    \n",
       "1           Star Wars: Episode I  The Phantom Menace                                    \n",
       "2                                                NaN                                    \n",
       "3           Star Wars: Episode I  The Phantom Menace                                    \n",
       "4           Star Wars: Episode I  The Phantom Menace                                    \n",
       "5           Star Wars: Episode I  The Phantom Menace                                    \n",
       "6           Star Wars: Episode I  The Phantom Menace                                    \n",
       "7           Star Wars: Episode I  The Phantom Menace                                    \n",
       "8           Star Wars: Episode I  The Phantom Menace                                    \n",
       "9           Star Wars: Episode I  The Phantom Menace                                    \n",
       "\n",
       "                                    Unnamed: 4  \\\n",
       "0  Star Wars: Episode II  Attack of the Clones   \n",
       "1  Star Wars: Episode II  Attack of the Clones   \n",
       "2                                          NaN   \n",
       "3  Star Wars: Episode II  Attack of the Clones   \n",
       "4  Star Wars: Episode II  Attack of the Clones   \n",
       "5  Star Wars: Episode II  Attack of the Clones   \n",
       "6  Star Wars: Episode II  Attack of the Clones   \n",
       "7  Star Wars: Episode II  Attack of the Clones   \n",
       "8  Star Wars: Episode II  Attack of the Clones   \n",
       "9  Star Wars: Episode II  Attack of the Clones   \n",
       "\n",
       "                                    Unnamed: 5  \\\n",
       "0  Star Wars: Episode III  Revenge of the Sith   \n",
       "1  Star Wars: Episode III  Revenge of the Sith   \n",
       "2                                          NaN   \n",
       "3  Star Wars: Episode III  Revenge of the Sith   \n",
       "4  Star Wars: Episode III  Revenge of the Sith   \n",
       "5  Star Wars: Episode III  Revenge of the Sith   \n",
       "6  Star Wars: Episode III  Revenge of the Sith   \n",
       "7  Star Wars: Episode III  Revenge of the Sith   \n",
       "8  Star Wars: Episode III  Revenge of the Sith   \n",
       "9  Star Wars: Episode III  Revenge of the Sith   \n",
       "\n",
       "                          Unnamed: 6  \\\n",
       "0  Star Wars: Episode IV  A New Hope   \n",
       "1  Star Wars: Episode IV  A New Hope   \n",
       "2                                NaN   \n",
       "3                                NaN   \n",
       "4  Star Wars: Episode IV  A New Hope   \n",
       "5  Star Wars: Episode IV  A New Hope   \n",
       "6  Star Wars: Episode IV  A New Hope   \n",
       "7  Star Wars: Episode IV  A New Hope   \n",
       "8  Star Wars: Episode IV  A New Hope   \n",
       "9  Star Wars: Episode IV  A New Hope   \n",
       "\n",
       "                                     Unnamed: 7  \\\n",
       "0  Star Wars: Episode V The Empire Strikes Back   \n",
       "1  Star Wars: Episode V The Empire Strikes Back   \n",
       "2                                           NaN   \n",
       "3                                           NaN   \n",
       "4  Star Wars: Episode V The Empire Strikes Back   \n",
       "5  Star Wars: Episode V The Empire Strikes Back   \n",
       "6  Star Wars: Episode V The Empire Strikes Back   \n",
       "7  Star Wars: Episode V The Empire Strikes Back   \n",
       "8  Star Wars: Episode V The Empire Strikes Back   \n",
       "9  Star Wars: Episode V The Empire Strikes Back   \n",
       "\n",
       "                                 Unnamed: 8  \\\n",
       "0  Star Wars: Episode VI Return of the Jedi   \n",
       "1  Star Wars: Episode VI Return of the Jedi   \n",
       "2                                       NaN   \n",
       "3                                       NaN   \n",
       "4  Star Wars: Episode VI Return of the Jedi   \n",
       "5  Star Wars: Episode VI Return of the Jedi   \n",
       "6  Star Wars: Episode VI Return of the Jedi   \n",
       "7  Star Wars: Episode VI Return of the Jedi   \n",
       "8  Star Wars: Episode VI Return of the Jedi   \n",
       "9  Star Wars: Episode VI Return of the Jedi   \n",
       "\n",
       "  Please rank the Star Wars films in order of preference with 1 being your favorite film in the franchise and 6 being your least favorite film.  \\\n",
       "0           Star Wars: Episode I  The Phantom Menace                                                                                              \n",
       "1                                                  3                                                                                              \n",
       "2                                                NaN                                                                                              \n",
       "3                                                  1                                                                                              \n",
       "4                                                  5                                                                                              \n",
       "5                                                  5                                                                                              \n",
       "6                                                  1                                                                                              \n",
       "7                                                  6                                                                                              \n",
       "8                                                  4                                                                                              \n",
       "9                                                  5                                                                                              \n",
       "\n",
       "   ...         Unnamed: 28       Which character shot first?  \\\n",
       "0  ...                Yoda                          Response   \n",
       "1  ...      Very favorably  I don't understand this question   \n",
       "2  ...                 NaN                               NaN   \n",
       "3  ...    Unfamiliar (N/A)  I don't understand this question   \n",
       "4  ...      Very favorably  I don't understand this question   \n",
       "5  ...  Somewhat favorably                            Greedo   \n",
       "6  ...      Very favorably                               Han   \n",
       "7  ...      Very favorably                               Han   \n",
       "8  ...      Very favorably                               Han   \n",
       "9  ...  Somewhat favorably                               Han   \n",
       "\n",
       "  Are you familiar with the Expanded Universe?  \\\n",
       "0                                     Response   \n",
       "1                                          Yes   \n",
       "2                                          NaN   \n",
       "3                                           No   \n",
       "4                                           No   \n",
       "5                                          Yes   \n",
       "6                                          Yes   \n",
       "7                                          Yes   \n",
       "8                                           No   \n",
       "9                                           No   \n",
       "\n",
       "  Do you consider yourself to be a fan of the Expanded Universe?æ  \\\n",
       "0                                           Response                 \n",
       "1                                                 No                 \n",
       "2                                                NaN                 \n",
       "3                                                NaN                 \n",
       "4                                                NaN                 \n",
       "5                                                 No                 \n",
       "6                                                 No                 \n",
       "7                                                 No                 \n",
       "8                                                NaN                 \n",
       "9                                                NaN                 \n",
       "\n",
       "  Do you consider yourself to be a fan of the Star Trek franchise?    Gender  \\\n",
       "0                                           Response                Response   \n",
       "1                                                 No                    Male   \n",
       "2                                                Yes                    Male   \n",
       "3                                                 No                    Male   \n",
       "4                                                Yes                    Male   \n",
       "5                                                 No                    Male   \n",
       "6                                                Yes                    Male   \n",
       "7                                                 No                    Male   \n",
       "8                                                Yes                    Male   \n",
       "9                                                 No                    Male   \n",
       "\n",
       "        Age     Household Income                         Education  \\\n",
       "0  Response             Response                          Response   \n",
       "1     18-29                  NaN                High school degree   \n",
       "2     18-29         $0 - $24,999                   Bachelor degree   \n",
       "3     18-29         $0 - $24,999                High school degree   \n",
       "4     18-29  $100,000 - $149,999  Some college or Associate degree   \n",
       "5     18-29  $100,000 - $149,999  Some college or Associate degree   \n",
       "6     18-29    $25,000 - $49,999                   Bachelor degree   \n",
       "7     18-29                  NaN                High school degree   \n",
       "8     18-29                  NaN                High school degree   \n",
       "9     18-29         $0 - $24,999  Some college or Associate degree   \n",
       "\n",
       "  Location (Census Region)  \n",
       "0                 Response  \n",
       "1           South Atlantic  \n",
       "2       West South Central  \n",
       "3       West North Central  \n",
       "4       West North Central  \n",
       "5       West North Central  \n",
       "6          Middle Atlantic  \n",
       "7       East North Central  \n",
       "8           South Atlantic  \n",
       "9           South Atlantic  \n",
       "\n",
       "[10 rows x 38 columns]"
      ]
     },
     "execution_count": 2,
     "metadata": {},
     "output_type": "execute_result"
    }
   ],
   "source": [
    "star_wars.head(10)"
   ]
  },
  {
   "cell_type": "code",
   "execution_count": 3,
   "metadata": {
    "scrolled": false
   },
   "outputs": [
    {
     "data": {
      "text/plain": [
       "Index(['RespondentID',\n",
       "       'Have you seen any of the 6 films in the Star Wars franchise?',\n",
       "       'Do you consider yourself to be a fan of the Star Wars film franchise?',\n",
       "       'Which of the following Star Wars films have you seen? Please select all that apply.',\n",
       "       'Unnamed: 4', 'Unnamed: 5', 'Unnamed: 6', 'Unnamed: 7', 'Unnamed: 8',\n",
       "       'Please rank the Star Wars films in order of preference with 1 being your favorite film in the franchise and 6 being your least favorite film.',\n",
       "       'Unnamed: 10', 'Unnamed: 11', 'Unnamed: 12', 'Unnamed: 13',\n",
       "       'Unnamed: 14',\n",
       "       'Please state whether you view the following characters favorably, unfavorably, or are unfamiliar with him/her.',\n",
       "       'Unnamed: 16', 'Unnamed: 17', 'Unnamed: 18', 'Unnamed: 19',\n",
       "       'Unnamed: 20', 'Unnamed: 21', 'Unnamed: 22', 'Unnamed: 23',\n",
       "       'Unnamed: 24', 'Unnamed: 25', 'Unnamed: 26', 'Unnamed: 27',\n",
       "       'Unnamed: 28', 'Which character shot first?',\n",
       "       'Are you familiar with the Expanded Universe?',\n",
       "       'Do you consider yourself to be a fan of the Expanded Universe?æ',\n",
       "       'Do you consider yourself to be a fan of the Star Trek franchise?',\n",
       "       'Gender', 'Age', 'Household Income', 'Education',\n",
       "       'Location (Census Region)'],\n",
       "      dtype='object')"
      ]
     },
     "execution_count": 3,
     "metadata": {},
     "output_type": "execute_result"
    }
   ],
   "source": [
    "star_wars.columns"
   ]
  },
  {
   "cell_type": "markdown",
   "metadata": {},
   "source": [
    "We can see there are several columns with poor naming conventions (\"Unnamed...\") that have verbose values that could be replaced with simpler values like True/False."
   ]
  },
  {
   "cell_type": "code",
   "execution_count": 4,
   "metadata": {},
   "outputs": [
    {
     "name": "stdout",
     "output_type": "stream",
     "text": [
      "<class 'pandas.core.frame.DataFrame'>\n",
      "RangeIndex: 1187 entries, 0 to 1186\n",
      "Data columns (total 38 columns):\n",
      " #   Column                                                                                                                                         Non-Null Count  Dtype  \n",
      "---  ------                                                                                                                                         --------------  -----  \n",
      " 0   RespondentID                                                                                                                                   1186 non-null   float64\n",
      " 1   Have you seen any of the 6 films in the Star Wars franchise?                                                                                   1187 non-null   object \n",
      " 2   Do you consider yourself to be a fan of the Star Wars film franchise?                                                                          837 non-null    object \n",
      " 3   Which of the following Star Wars films have you seen? Please select all that apply.                                                            674 non-null    object \n",
      " 4   Unnamed: 4                                                                                                                                     572 non-null    object \n",
      " 5   Unnamed: 5                                                                                                                                     551 non-null    object \n",
      " 6   Unnamed: 6                                                                                                                                     608 non-null    object \n",
      " 7   Unnamed: 7                                                                                                                                     759 non-null    object \n",
      " 8   Unnamed: 8                                                                                                                                     739 non-null    object \n",
      " 9   Please rank the Star Wars films in order of preference with 1 being your favorite film in the franchise and 6 being your least favorite film.  836 non-null    object \n",
      " 10  Unnamed: 10                                                                                                                                    837 non-null    object \n",
      " 11  Unnamed: 11                                                                                                                                    836 non-null    object \n",
      " 12  Unnamed: 12                                                                                                                                    837 non-null    object \n",
      " 13  Unnamed: 13                                                                                                                                    837 non-null    object \n",
      " 14  Unnamed: 14                                                                                                                                    837 non-null    object \n",
      " 15  Please state whether you view the following characters favorably, unfavorably, or are unfamiliar with him/her.                                 830 non-null    object \n",
      " 16  Unnamed: 16                                                                                                                                    832 non-null    object \n",
      " 17  Unnamed: 17                                                                                                                                    832 non-null    object \n",
      " 18  Unnamed: 18                                                                                                                                    824 non-null    object \n",
      " 19  Unnamed: 19                                                                                                                                    826 non-null    object \n",
      " 20  Unnamed: 20                                                                                                                                    815 non-null    object \n",
      " 21  Unnamed: 21                                                                                                                                    827 non-null    object \n",
      " 22  Unnamed: 22                                                                                                                                    821 non-null    object \n",
      " 23  Unnamed: 23                                                                                                                                    813 non-null    object \n",
      " 24  Unnamed: 24                                                                                                                                    828 non-null    object \n",
      " 25  Unnamed: 25                                                                                                                                    831 non-null    object \n",
      " 26  Unnamed: 26                                                                                                                                    822 non-null    object \n",
      " 27  Unnamed: 27                                                                                                                                    815 non-null    object \n",
      " 28  Unnamed: 28                                                                                                                                    827 non-null    object \n",
      " 29  Which character shot first?                                                                                                                    829 non-null    object \n",
      " 30  Are you familiar with the Expanded Universe?                                                                                                   829 non-null    object \n",
      " 31  Do you consider yourself to be a fan of the Expanded Universe?æ                                                                               214 non-null    object \n",
      " 32  Do you consider yourself to be a fan of the Star Trek franchise?                                                                               1069 non-null   object \n",
      " 33  Gender                                                                                                                                         1047 non-null   object \n",
      " 34  Age                                                                                                                                            1047 non-null   object \n",
      " 35  Household Income                                                                                                                               859 non-null    object \n",
      " 36  Education                                                                                                                                      1037 non-null   object \n",
      " 37  Location (Census Region)                                                                                                                       1044 non-null   object \n",
      "dtypes: float64(1), object(37)\n",
      "memory usage: 352.5+ KB\n"
     ]
    }
   ],
   "source": [
    "star_wars.info()"
   ]
  },
  {
   "cell_type": "markdown",
   "metadata": {},
   "source": [
    "## Data Cleaning"
   ]
  },
  {
   "cell_type": "markdown",
   "metadata": {},
   "source": [
    "Take a look at the next two columns:\n",
    "\n",
    "    - Have you seen any of the 6 films in the Star Wars franchise?\n",
    "    - Do you consider yourself to be a fan of the Star Wars film franchise?  \n",
    "\n",
    "- Both represent Yes/No questions. They can also be NaN where a respondent chooses not to answer a question  \n",
    "\n",
    "- Both columns are currently string types, because the main values they contain are Yes and No. We can make the data a bit easier to analyze later by converting each column to a Boolean with only the values True, False, and NaN. Booleans are easier to work with because we can select the rows that are True or False without having to do a string comparison. \n",
    "\n",
    "- We can use the pandas.Series.map() method on series objects to perform the conversion."
   ]
  },
  {
   "cell_type": "code",
   "execution_count": 5,
   "metadata": {},
   "outputs": [],
   "source": [
    "# Changing yes/no to True/False for easier calculations\n",
    "star_wars['Have you seen any of the 6 films in the Star Wars franchise?'] =  star_wars['Have you seen any of the 6 films in the Star Wars franchise?'].map({\"Yes\":True,\"No\":False})\n",
    "star_wars['Do you consider yourself to be a fan of the Star Wars film franchise?'] =  star_wars['Do you consider yourself to be a fan of the Star Wars film franchise?'].map({\"Yes\":True,\"No\":False})"
   ]
  },
  {
   "cell_type": "markdown",
   "metadata": {},
   "source": [
    "The next six columns represent a single checkbox question. The respondent checked off a series of boxes in response to the question, Which of the following Star Wars films have you seen? Please select all that apply.  \n",
    "\n",
    "The columns for this question are:\n",
    "\n",
    "- Which of the following Star Wars films have you seen? Please select all that apply. — whether or not the respondent saw Star Wars: Episode I The Phantom Menace.\n",
    "- Unnamed: 4 — whether or not the respondent saw Star Wars: Episode II Attack of the Clones.\n",
    "- Unnamed: 5 — whether or not the respondent saw Star Wars: Episode III Revenge of the Sith.\n",
    "- Unnamed: 6 — whether or not the respondent saw Star Wars: Episode IV A New Hope.\n",
    "- Unnamed: 7 — whether or not the respondent saw Star Wars: Episode V The Empire Strikes Back.\n",
    "- Unnamed: 8 — whether or not the respondent saw Star Wars: Episode VI Return of the Jedi.  \n",
    "\n",
    "For each of these columns, if the value in a cell is the name of the movie, that means the respondent saw the movie. If the value is NaN, the respondent either didn't answer or didn't see the movie. We'll assume that they didn't see the movie.  \n",
    "\n",
    "We'll need to convert each of these columns to a Boolean, then rename the column something more intuitive. We can convert the values the same way we did earlier, except that we'll need to include the movie title and NaN in the mapping dictionary."
   ]
  },
  {
   "cell_type": "code",
   "execution_count": 6,
   "metadata": {},
   "outputs": [],
   "source": [
    "# Converting the checkmark survey columns into more readable boolean columns with each column representing one movie.\n",
    "title_map = {'Star Wars: Episode I  The Phantom Menace':True,'Star Wars: Episode II  Attack of the Clones':True,\n",
    "            'Star Wars: Episode III  Revenge of the Sith':True,'Star Wars: Episode IV  A New Hope':True,\n",
    "            'Star Wars: Episode V The Empire Strikes Back':True,'Star Wars: Episode VI Return of the Jedi':True}\n",
    "\n",
    "for col in star_wars.columns[3:9]:\n",
    "    star_wars[col]=star_wars[col].map(title_map).fillna(False)"
   ]
  },
  {
   "cell_type": "markdown",
   "metadata": {},
   "source": [
    "Rename each of the columns above so the names are more intuitive. We recommend using seen_1 to indicate whether the respondent saw Star Wars: Episode I The Phantom Menace, seen_2 for Star Wars: Episode II Attack of the Clones, and so on."
   ]
  },
  {
   "cell_type": "code",
   "execution_count": 7,
   "metadata": {},
   "outputs": [],
   "source": [
    "# Renaming columns to better fit the screen as well as provide more information for columns with names like 'Unnamed...'\n",
    "star_wars = star_wars.rename(columns={'Have you seen any of the 6 films in the Star Wars franchise?':'seen_any',\n",
    "                                      'Do you consider yourself to be a fan of the Star Wars film franchise?':'fan',\n",
    "                                      'Which of the following Star Wars films have you seen? Please select all that apply.':'seen_1',\n",
    "                                      'Unnamed: 4':'seen_2','Unnamed: 5':'seen_3','Unnamed: 6':'seen_4','Unnamed: 7':'seen_5',\n",
    "                                      'Unnamed: 8':'seen_6','Please rank the Star Wars films in order of preference with 1 being your favorite film in the franchise and 6 being your least favorite film.':'ep1_rank',\n",
    "                                     'Unnamed: 10':'ep2_rank','Unnamed: 11':'ep3_rank','Unnamed: 12':'ep4_rank',\n",
    "                                     'Unnamed: 13':'ep5_rank','Unnamed: 14':'ep6_rank'})"
   ]
  },
  {
   "cell_type": "code",
   "execution_count": 8,
   "metadata": {},
   "outputs": [
    {
     "name": "stdout",
     "output_type": "stream",
     "text": [
      "<class 'pandas.core.frame.DataFrame'>\n",
      "RangeIndex: 1187 entries, 0 to 1186\n",
      "Data columns (total 38 columns):\n",
      " #   Column                                                                                                          Non-Null Count  Dtype  \n",
      "---  ------                                                                                                          --------------  -----  \n",
      " 0   RespondentID                                                                                                    1186 non-null   float64\n",
      " 1   seen_any                                                                                                        1186 non-null   object \n",
      " 2   fan                                                                                                             836 non-null    object \n",
      " 3   seen_1                                                                                                          1187 non-null   bool   \n",
      " 4   seen_2                                                                                                          1187 non-null   bool   \n",
      " 5   seen_3                                                                                                          1187 non-null   bool   \n",
      " 6   seen_4                                                                                                          1187 non-null   bool   \n",
      " 7   seen_5                                                                                                          1187 non-null   bool   \n",
      " 8   seen_6                                                                                                          1187 non-null   bool   \n",
      " 9   ep1_rank                                                                                                        836 non-null    object \n",
      " 10  ep2_rank                                                                                                        837 non-null    object \n",
      " 11  ep3_rank                                                                                                        836 non-null    object \n",
      " 12  ep4_rank                                                                                                        837 non-null    object \n",
      " 13  ep5_rank                                                                                                        837 non-null    object \n",
      " 14  ep6_rank                                                                                                        837 non-null    object \n",
      " 15  Please state whether you view the following characters favorably, unfavorably, or are unfamiliar with him/her.  830 non-null    object \n",
      " 16  Unnamed: 16                                                                                                     832 non-null    object \n",
      " 17  Unnamed: 17                                                                                                     832 non-null    object \n",
      " 18  Unnamed: 18                                                                                                     824 non-null    object \n",
      " 19  Unnamed: 19                                                                                                     826 non-null    object \n",
      " 20  Unnamed: 20                                                                                                     815 non-null    object \n",
      " 21  Unnamed: 21                                                                                                     827 non-null    object \n",
      " 22  Unnamed: 22                                                                                                     821 non-null    object \n",
      " 23  Unnamed: 23                                                                                                     813 non-null    object \n",
      " 24  Unnamed: 24                                                                                                     828 non-null    object \n",
      " 25  Unnamed: 25                                                                                                     831 non-null    object \n",
      " 26  Unnamed: 26                                                                                                     822 non-null    object \n",
      " 27  Unnamed: 27                                                                                                     815 non-null    object \n",
      " 28  Unnamed: 28                                                                                                     827 non-null    object \n",
      " 29  Which character shot first?                                                                                     829 non-null    object \n",
      " 30  Are you familiar with the Expanded Universe?                                                                    829 non-null    object \n",
      " 31  Do you consider yourself to be a fan of the Expanded Universe?æ                                                214 non-null    object \n",
      " 32  Do you consider yourself to be a fan of the Star Trek franchise?                                                1069 non-null   object \n",
      " 33  Gender                                                                                                          1047 non-null   object \n",
      " 34  Age                                                                                                             1047 non-null   object \n",
      " 35  Household Income                                                                                                859 non-null    object \n",
      " 36  Education                                                                                                       1037 non-null   object \n",
      " 37  Location (Census Region)                                                                                        1044 non-null   object \n",
      "dtypes: bool(6), float64(1), object(31)\n",
      "memory usage: 303.8+ KB\n"
     ]
    }
   ],
   "source": [
    "star_wars.info()"
   ]
  },
  {
   "cell_type": "code",
   "execution_count": 9,
   "metadata": {},
   "outputs": [],
   "source": [
    "# drop row that not a fan of star wars\n",
    "star_wars = star_wars[(star_wars[\"fan\"] == True) | (star_wars[\"fan\"] == False)]"
   ]
  },
  {
   "cell_type": "markdown",
   "metadata": {},
   "source": [
    "## Analysis\n",
    "### Average Rating for Each Movie"
   ]
  },
  {
   "cell_type": "code",
   "execution_count": 10,
   "metadata": {},
   "outputs": [],
   "source": [
    "star_wars[star_wars.columns[9:15]] = star_wars[star_wars.columns[9:15]].astype(float)\n",
    "ranking_avgs=star_wars[star_wars.columns[9:15]].mean()"
   ]
  },
  {
   "cell_type": "code",
   "execution_count": 11,
   "metadata": {
    "scrolled": true
   },
   "outputs": [
    {
     "data": {
      "image/png": "[encoded data removed]",
      "text/plain": [
       "<Figure size 432x216 with 1 Axes>"
      ]
     },
     "metadata": {
      "needs_background": "light"
     },
     "output_type": "display_data"
    }
   ],
   "source": [
    "fig,ax = plt.subplots(figsize=(6,3))\n",
    "rankings = ax.barh(ranking_avgs.index,ranking_avgs,color='#fe9b00')\n",
    "ax.set_facecolor('#fff4d6')\n",
    "plt.title('Average Ranking of Each Movie')\n",
    "# plt.xticks(rotation=30)\n",
    "ax.spines['top'].set_visible(False)\n",
    "ax.spines['right'].set_visible(False)\n",
    "ax.spines['bottom'].set_visible(False)\n",
    "ax.spines['left'].set_visible(False)\n",
    "plt.gca().invert_yaxis()\n",
    "plt.text(2.6,4.25,'**Lowest rank is the most\\n   liked',fontstyle='italic')\n",
    "plt.show()"
   ]
  },
  {
   "cell_type": "markdown",
   "metadata": {},
   "source": [
    "From the averages above Episode 5 (Empire Strikes Back) is the highest rated movie by far. The \"prequels\" (Episodes 1, 2, and 3) were generally less well-received than the originals, so it makes sense that their ratings were lower overall than the original trilogy."
   ]
  },
  {
   "cell_type": "markdown",
   "metadata": {},
   "source": [
    "### Total Number of Survey Respondents Who Have Seen Each Movie"
   ]
  },
  {
   "cell_type": "code",
   "execution_count": 12,
   "metadata": {},
   "outputs": [],
   "source": [
    "tot_seen = star_wars[star_wars.columns[3:9]].sum()"
   ]
  },
  {
   "cell_type": "code",
   "execution_count": 13,
   "metadata": {},
   "outputs": [
    {
     "data": {
      "image/png": "[encoded data removed]",
      "text/plain": [
       "<Figure size 432x216 with 1 Axes>"
      ]
     },
     "metadata": {
      "needs_background": "light"
     },
     "output_type": "display_data"
    }
   ],
   "source": [
    "fig,ax = plt.subplots(figsize=(6,3))\n",
    "rankings = ax.barh(tot_seen.index,tot_seen,color='#ff1947')\n",
    "ax.set_facecolor('#fff4d6')\n",
    "plt.title('Total Respondents Who Have Seen Each Movie')\n",
    "# plt.xticks(rotation=30)\n",
    "ax.spines['top'].set_visible(False)\n",
    "ax.spines['right'].set_visible(False)\n",
    "ax.spines['bottom'].set_visible(False)\n",
    "ax.spines['left'].set_visible(False)\n",
    "plt.gca().invert_yaxis()\n",
    "plt.show()"
   ]
  },
  {
   "cell_type": "markdown",
   "metadata": {},
   "source": [
    "The number of respondents who have seen each movie seems to have a correlation with rankings (with the highest ranked movie, Episode 5, also having the highest number of viewings). This could be because of a few things:\n",
    "* The original trilogy (episodes 4, 5, and 6) have been around much longer so more people have had a chance to view them\n",
    "* People prioritize watching things that are enjoyable, so maybe people knew that the original trilogy was better rated than the prequels so the spent their time watching the originals instead"
   ]
  },
  {
   "cell_type": "markdown",
   "metadata": {},
   "source": [
    "### Does Gender Matter with Star Wars?"
   ]
  },
  {
   "cell_type": "code",
   "execution_count": 14,
   "metadata": {},
   "outputs": [],
   "source": [
    "males = star_wars[star_wars[\"Gender\"] == \"Male\"]\n",
    "females = star_wars[star_wars[\"Gender\"] == \"Female\"]"
   ]
  },
  {
   "cell_type": "code",
   "execution_count": 15,
   "metadata": {
    "scrolled": true
   },
   "outputs": [
    {
     "data": {
      "image/png": "[encoded data removed]",
      "text/plain": [
       "<Figure size 576x288 with 2 Axes>"
      ]
     },
     "metadata": {
      "needs_background": "light"
     },
     "output_type": "display_data"
    }
   ],
   "source": [
    "male_ranking_avgs=males[males.columns[9:15]].mean()\n",
    "female_ranking_avgs = females[females.columns[9:15]].mean()\n",
    "\n",
    "male_tot_seen = males[males.columns[3:9]].sum()\n",
    "female_tot_seen = females[females.columns[3:9]].sum()\n",
    "\n",
    "ind = np.arange(6)\n",
    "height = 0.35\n",
    "\n",
    "fig,ax = plt.subplots(1,2,figsize=(8,4))\n",
    "malebar = ax[0].barh(ind,male_ranking_avgs,color='#fe9b00',height=height)\n",
    "femalebar = ax[0].barh(ind+height,female_ranking_avgs,color='#c94402',height=height)\n",
    "ax[0].set_facecolor('#fff4d6')\n",
    "ax[0].set_title('Movie Rankings by Gender')\n",
    "ax[0].spines['top'].set_visible(False)\n",
    "ax[0].spines['right'].set_visible(False)\n",
    "ax[0].spines['bottom'].set_visible(False)\n",
    "ax[0].spines['left'].set_visible(False)\n",
    "ax[0].set_yticks(ind + height / 2)\n",
    "ax[0].set_yticklabels(('Episode 1','Episode 2','Episode 3','Episode 4','Episode 5','Episode 6'))\n",
    "ax[0].legend((malebar[0], femalebar[0]), ('Men', 'Women'),bbox_to_anchor=[-0.3,1])\n",
    "ax[0].invert_yaxis()\n",
    "\n",
    "male2bar = ax[1].barh(ind,male_tot_seen,color='#ff1947',height=height)\n",
    "female2bar = ax[1].barh(ind+height,female_tot_seen,color='#9b052d',height=height)\n",
    "ax[1].set_facecolor('#fff4d6')\n",
    "ax[1].set_title('# of Respondents by Gender')\n",
    "ax[1].spines['top'].set_visible(False)\n",
    "ax[1].spines['right'].set_visible(False)\n",
    "ax[1].spines['bottom'].set_visible(False)\n",
    "ax[1].spines['left'].set_visible(False)\n",
    "ax[1].set_yticks([])\n",
    "# ax[1].set_yticklabels(('Episode 1','Episode 2','Episode 3','Episode 4','Episode 5',\n",
    "#                    'Episode 6'))\n",
    "ax[1].legend((male2bar[0], female2bar[0]), ('Men', 'Women'),bbox_to_anchor=[1,1])\n",
    "ax[1].invert_yaxis()\n",
    "plt.show()"
   ]
  },
  {
   "cell_type": "markdown",
   "metadata": {},
   "source": [
    "Episode 5 was highest ranked among both men and women, but the ranking differences between the genders was negligible with a slight exception for Episode 4. Men tended to rank Episode 4 slightly higher than women. Overall more men have seen each of the 6 films than women survey respondents, with the two most popular movies among each gender being Episode 5 and 6."
   ]
  },
  {
   "cell_type": "markdown",
   "metadata": {},
   "source": [
    "### Star Wars Fans vs. Non-Fans"
   ]
  },
  {
   "cell_type": "code",
   "execution_count": 16,
   "metadata": {},
   "outputs": [
    {
     "data": {
      "image/png": "[encoded data removed]",
      "text/plain": [
       "<Figure size 576x288 with 2 Axes>"
      ]
     },
     "metadata": {
      "needs_background": "light"
     },
     "output_type": "display_data"
    }
   ],
   "source": [
    "fans = star_wars[star_wars[\"fan\"] == True]\n",
    "non_fans = star_wars[star_wars['fan'] == False]\n",
    "\n",
    "fan_ranking_avgs=fans[fans.columns[9:15]].mean()\n",
    "non_fan_ranking_avgs = non_fans[non_fans.columns[9:15]].mean()\n",
    "\n",
    "fan_tot_seen = fans[fans.columns[3:9]].sum()\n",
    "non_fan_tot_seen = non_fans[non_fans.columns[3:9]].sum()\n",
    "\n",
    "ind = np.arange(6)\n",
    "height = 0.35\n",
    "\n",
    "fig,ax = plt.subplots(1,2,figsize=(8,4))\n",
    "fanbar = ax[0].barh(ind,fan_ranking_avgs,color='#fe9b00',height=height)\n",
    "nonfanbar = ax[0].barh(ind+height,non_fan_ranking_avgs,color='#c94402',height=height)\n",
    "ax[0].set_facecolor('#fff4d6')\n",
    "ax[0].set_title('Rankings by Fans vs Non-Fans')\n",
    "ax[0].spines['top'].set_visible(False)\n",
    "ax[0].spines['right'].set_visible(False)\n",
    "ax[0].spines['bottom'].set_visible(False)\n",
    "ax[0].spines['left'].set_visible(False)\n",
    "ax[0].set_yticks(ind + height / 2)\n",
    "ax[0].set_yticklabels(('Episode 1','Episode 2','Episode 3','Episode 4','Episode 5',\n",
    "                   'Episode 6'))\n",
    "ax[0].legend((fanbar[0], nonfanbar[0]), ('Fan', 'Non-Fan'),bbox_to_anchor=[-0.3,1])\n",
    "ax[0].invert_yaxis()\n",
    "\n",
    "fan2bar = ax[1].barh(ind,fan_tot_seen,color='#ff1947',height=height)\n",
    "nonfan2bar = ax[1].barh(ind+height,non_fan_tot_seen,color='#9b052d',height=height)\n",
    "ax[1].set_facecolor('#fff4d6')\n",
    "ax[1].set_title('# of Respondents by Fan/Non-Fan')\n",
    "ax[1].spines['top'].set_visible(False)\n",
    "ax[1].spines['right'].set_visible(False)\n",
    "ax[1].spines['bottom'].set_visible(False)\n",
    "ax[1].spines['left'].set_visible(False)\n",
    "ax[1].set_yticks([])\n",
    "# ax[1].set_yticklabels(('Episode 1','Episode 2','Episode 3','Episode 4','Episode 5',\n",
    "#                    'Episode 6'))\n",
    "ax[1].legend((fan2bar[0], nonfan2bar[0]), ('Fan', 'Non-Fan'),bbox_to_anchor=[1,1])\n",
    "ax[1].invert_yaxis()\n",
    "plt.show()"
   ]
  },
  {
   "cell_type": "markdown",
   "metadata": {},
   "source": [
    "Fans had much stronger ranking preference for the original trilogy than non-fans, who slightly preferred Episode 5 better than others in the series, but they also liked Episode 1 (so can their opinion really be trusted?).\n",
    "\n",
    "The number of non-fans who have seen each movie also was much lower than the number of fans who had seen each movie. This makes sense -- if you don't like a franchise why would you watch the movies? Episode 5 and 6 still had the highest viewership among fans and non-fans alike."
   ]
  },
  {
   "cell_type": "markdown",
   "metadata": {},
   "source": [
    "### Does Education Level Matter?"
   ]
  },
  {
   "cell_type": "code",
   "execution_count": 17,
   "metadata": {
    "scrolled": true
   },
   "outputs": [
    {
     "name": "stderr",
     "output_type": "stream",
     "text": [
      "C:\\Users\\dpn\\AppData\\Local\\Temp\\ipykernel_15960\\97334129.py:1: FutureWarning: ['Please state whether you view the following characters favorably, unfavorably, or are unfamiliar with him/her.', 'Unnamed: 16', 'Unnamed: 17', 'Unnamed: 18', 'Unnamed: 19', 'Unnamed: 20', 'Unnamed: 21', 'Unnamed: 22', 'Unnamed: 23', 'Unnamed: 24', 'Unnamed: 25', 'Unnamed: 26', 'Unnamed: 27', 'Unnamed: 28', 'Which character shot first?', 'Are you familiar with the Expanded Universe?', 'Do you consider yourself to be a fan of the Expanded Universe?\\x8cæ', 'Do you consider yourself to be a fan of the Star Trek franchise?', 'Gender', 'Age', 'Household Income', 'Location (Census Region)'] did not aggregate successfully. If any error is raised this will raise in a future version of pandas. Drop these columns/ops to avoid this warning.\n",
      "  star_wars_edu = star_wars.groupby('Education').agg(['mean','sum'])\n"
     ]
    },
    {
     "data": {
      "text/html": [
       "<div>\n",
       "<style scoped>\n",
       "    .dataframe tbody tr th:only-of-type {\n",
       "        vertical-align: middle;\n",
       "    }\n",
       "\n",
       "    .dataframe tbody tr th {\n",
       "        vertical-align: top;\n",
       "    }\n",
       "\n",
       "    .dataframe thead th {\n",
       "        text-align: right;\n",
       "    }\n",
       "</style>\n",
       "<table border=\"1\" class=\"dataframe\">\n",
       "  <thead>\n",
       "    <tr style=\"text-align: right;\">\n",
       "      <th></th>\n",
       "      <th>mean</th>\n",
       "      <th>sum</th>\n",
       "    </tr>\n",
       "    <tr>\n",
       "      <th>Education</th>\n",
       "      <th></th>\n",
       "      <th></th>\n",
       "    </tr>\n",
       "  </thead>\n",
       "  <tbody>\n",
       "    <tr>\n",
       "      <th>Bachelor degree</th>\n",
       "      <td>1.0</td>\n",
       "      <td>262</td>\n",
       "    </tr>\n",
       "    <tr>\n",
       "      <th>Graduate degree</th>\n",
       "      <td>1.0</td>\n",
       "      <td>226</td>\n",
       "    </tr>\n",
       "    <tr>\n",
       "      <th>High school degree</th>\n",
       "      <td>1.0</td>\n",
       "      <td>71</td>\n",
       "    </tr>\n",
       "    <tr>\n",
       "      <th>Less than high school degree</th>\n",
       "      <td>1.0</td>\n",
       "      <td>3</td>\n",
       "    </tr>\n",
       "    <tr>\n",
       "      <th>Some college or Associate degree</th>\n",
       "      <td>1.0</td>\n",
       "      <td>254</td>\n",
       "    </tr>\n",
       "  </tbody>\n",
       "</table>\n",
       "</div>"
      ],
      "text/plain": [
       "                                  mean  sum\n",
       "Education                                  \n",
       "Bachelor degree                    1.0  262\n",
       "Graduate degree                    1.0  226\n",
       "High school degree                 1.0   71\n",
       "Less than high school degree       1.0    3\n",
       "Some college or Associate degree   1.0  254"
      ]
     },
     "metadata": {},
     "output_type": "display_data"
    }
   ],
   "source": [
    "star_wars_edu = star_wars.groupby('Education').agg(['mean','sum'])\n",
    "star_wars_edu.drop('RespondentID',axis=1,inplace=True)\n",
    "\n",
    "display(star_wars_edu['seen_any'])"
   ]
  },
  {
   "cell_type": "markdown",
   "metadata": {},
   "source": [
    "Although the number of responses is smaller for respondents without any college education, it is still enough to warrant further analysis. It does appear significant that respondents with a High School Degree have seen Star Wars at least 10% less than respondents with some college education."
   ]
  },
  {
   "cell_type": "code",
   "execution_count": 18,
   "metadata": {},
   "outputs": [],
   "source": [
    "star_wars['Age']=pd.Categorical(star_wars['Age'],categories = ['18-29','30-44','45-60','> 60'],ordered=True)\n",
    "college = star_wars[(star_wars['Education'] == 'Bachelor degree') | (star_wars['Education'] == 'Graduate degree') | \n",
    "                    (star_wars['Education'] == 'Some college or Associate degree')]\n",
    "high_school = star_wars[(star_wars['Education'] == 'High school degree') | (star_wars['Education'] == 'Less than high school degree')]\n",
    "\n",
    "college_mean = college['seen_any'].mean()\n",
    "high_school_mean = high_school['seen_any'].mean()"
   ]
  },
  {
   "cell_type": "markdown",
   "metadata": {},
   "source": [
    "A simple Chi Squared test confirms that we can reject the null hypothesis. Education level does impact whether or not an individual has seen any Star Wars movies, but let's ensure that `Age` is not a confounding variable."
   ]
  },
  {
   "cell_type": "code",
   "execution_count": 20,
   "metadata": {},
   "outputs": [
    {
     "data": {
      "image/png": "[encoded data removed]",
      "text/plain": [
       "<Figure size 432x288 with 1 Axes>"
      ]
     },
     "metadata": {
      "needs_background": "light"
     },
     "output_type": "display_data"
    }
   ],
   "source": [
    "age_compare = pd.concat([(college['Age'].value_counts(dropna=False)/college.shape[0]),\n",
    "          (high_school['Age'].value_counts(dropna=False)/high_school.shape[0])],axis=1)\n",
    "age_compare.columns = ['College Educated Age %','Non-College Educated Age %']\n",
    "age_compare.plot.bar()\n",
    "plt.legend(bbox_to_anchor=[1.6,1])\n",
    "plt.show()"
   ]
  },
  {
   "cell_type": "code",
   "execution_count": 21,
   "metadata": {},
   "outputs": [
    {
     "name": "stderr",
     "output_type": "stream",
     "text": [
      "C:\\Users\\dpn\\AppData\\Local\\Temp\\ipykernel_15960\\1974379619.py:1: FutureWarning: ['Please state whether you view the following characters favorably, unfavorably, or are unfamiliar with him/her.', 'Unnamed: 16', 'Unnamed: 17', 'Unnamed: 18', 'Unnamed: 19', 'Unnamed: 20', 'Unnamed: 21', 'Unnamed: 22', 'Unnamed: 23', 'Unnamed: 24', 'Unnamed: 25', 'Unnamed: 26', 'Unnamed: 27', 'Unnamed: 28', 'Which character shot first?', 'Are you familiar with the Expanded Universe?', 'Do you consider yourself to be a fan of the Expanded Universe?\\x8cæ', 'Do you consider yourself to be a fan of the Star Trek franchise?', 'Gender', 'Household Income', 'Location (Census Region)'] did not aggregate successfully. If any error is raised this will raise in a future version of pandas. Drop these columns/ops to avoid this warning.\n",
      "  star_wars_age = star_wars.groupby(['Age','Education']).agg(['mean','sum'])\n"
     ]
    },
    {
     "data": {
      "text/html": [
       "<div>\n",
       "<style scoped>\n",
       "    .dataframe tbody tr th:only-of-type {\n",
       "        vertical-align: middle;\n",
       "    }\n",
       "\n",
       "    .dataframe tbody tr th {\n",
       "        vertical-align: top;\n",
       "    }\n",
       "\n",
       "    .dataframe thead th {\n",
       "        text-align: right;\n",
       "    }\n",
       "</style>\n",
       "<table border=\"1\" class=\"dataframe\">\n",
       "  <thead>\n",
       "    <tr style=\"text-align: right;\">\n",
       "      <th></th>\n",
       "      <th></th>\n",
       "      <th>mean</th>\n",
       "      <th>sum</th>\n",
       "    </tr>\n",
       "    <tr>\n",
       "      <th>Age</th>\n",
       "      <th>Education</th>\n",
       "      <th></th>\n",
       "      <th></th>\n",
       "    </tr>\n",
       "  </thead>\n",
       "  <tbody>\n",
       "    <tr>\n",
       "      <th rowspan=\"5\" valign=\"top\">18-29</th>\n",
       "      <th>Bachelor degree</th>\n",
       "      <td>1.0</td>\n",
       "      <td>62</td>\n",
       "    </tr>\n",
       "    <tr>\n",
       "      <th>Graduate degree</th>\n",
       "      <td>1.0</td>\n",
       "      <td>22</td>\n",
       "    </tr>\n",
       "    <tr>\n",
       "      <th>High school degree</th>\n",
       "      <td>1.0</td>\n",
       "      <td>24</td>\n",
       "    </tr>\n",
       "    <tr>\n",
       "      <th>Less than high school degree</th>\n",
       "      <td>1.0</td>\n",
       "      <td>2</td>\n",
       "    </tr>\n",
       "    <tr>\n",
       "      <th>Some college or Associate degree</th>\n",
       "      <td>1.0</td>\n",
       "      <td>68</td>\n",
       "    </tr>\n",
       "    <tr>\n",
       "      <th rowspan=\"5\" valign=\"top\">30-44</th>\n",
       "      <th>Bachelor degree</th>\n",
       "      <td>1.0</td>\n",
       "      <td>69</td>\n",
       "    </tr>\n",
       "    <tr>\n",
       "      <th>Graduate degree</th>\n",
       "      <td>1.0</td>\n",
       "      <td>62</td>\n",
       "    </tr>\n",
       "    <tr>\n",
       "      <th>High school degree</th>\n",
       "      <td>1.0</td>\n",
       "      <td>17</td>\n",
       "    </tr>\n",
       "    <tr>\n",
       "      <th>Less than high school degree</th>\n",
       "      <td>1.0</td>\n",
       "      <td>True</td>\n",
       "    </tr>\n",
       "    <tr>\n",
       "      <th>Some college or Associate degree</th>\n",
       "      <td>1.0</td>\n",
       "      <td>58</td>\n",
       "    </tr>\n",
       "    <tr>\n",
       "      <th rowspan=\"5\" valign=\"top\">45-60</th>\n",
       "      <th>Bachelor degree</th>\n",
       "      <td>1.0</td>\n",
       "      <td>88</td>\n",
       "    </tr>\n",
       "    <tr>\n",
       "      <th>Graduate degree</th>\n",
       "      <td>1.0</td>\n",
       "      <td>77</td>\n",
       "    </tr>\n",
       "    <tr>\n",
       "      <th>High school degree</th>\n",
       "      <td>1.0</td>\n",
       "      <td>15</td>\n",
       "    </tr>\n",
       "    <tr>\n",
       "      <th>Less than high school degree</th>\n",
       "      <td>NaN</td>\n",
       "      <td>0</td>\n",
       "    </tr>\n",
       "    <tr>\n",
       "      <th>Some college or Associate degree</th>\n",
       "      <td>1.0</td>\n",
       "      <td>59</td>\n",
       "    </tr>\n",
       "    <tr>\n",
       "      <th rowspan=\"5\" valign=\"top\">&gt; 60</th>\n",
       "      <th>Bachelor degree</th>\n",
       "      <td>1.0</td>\n",
       "      <td>43</td>\n",
       "    </tr>\n",
       "    <tr>\n",
       "      <th>Graduate degree</th>\n",
       "      <td>1.0</td>\n",
       "      <td>65</td>\n",
       "    </tr>\n",
       "    <tr>\n",
       "      <th>High school degree</th>\n",
       "      <td>1.0</td>\n",
       "      <td>15</td>\n",
       "    </tr>\n",
       "    <tr>\n",
       "      <th>Less than high school degree</th>\n",
       "      <td>NaN</td>\n",
       "      <td>0</td>\n",
       "    </tr>\n",
       "    <tr>\n",
       "      <th>Some college or Associate degree</th>\n",
       "      <td>1.0</td>\n",
       "      <td>69</td>\n",
       "    </tr>\n",
       "  </tbody>\n",
       "</table>\n",
       "</div>"
      ],
      "text/plain": [
       "                                        mean   sum\n",
       "Age   Education                                   \n",
       "18-29 Bachelor degree                    1.0    62\n",
       "      Graduate degree                    1.0    22\n",
       "      High school degree                 1.0    24\n",
       "      Less than high school degree       1.0     2\n",
       "      Some college or Associate degree   1.0    68\n",
       "30-44 Bachelor degree                    1.0    69\n",
       "      Graduate degree                    1.0    62\n",
       "      High school degree                 1.0    17\n",
       "      Less than high school degree       1.0  True\n",
       "      Some college or Associate degree   1.0    58\n",
       "45-60 Bachelor degree                    1.0    88\n",
       "      Graduate degree                    1.0    77\n",
       "      High school degree                 1.0    15\n",
       "      Less than high school degree       NaN     0\n",
       "      Some college or Associate degree   1.0    59\n",
       "> 60  Bachelor degree                    1.0    43\n",
       "      Graduate degree                    1.0    65\n",
       "      High school degree                 1.0    15\n",
       "      Less than high school degree       NaN     0\n",
       "      Some college or Associate degree   1.0    69"
      ]
     },
     "execution_count": 21,
     "metadata": {},
     "output_type": "execute_result"
    }
   ],
   "source": [
    "star_wars_age = star_wars.groupby(['Age','Education']).agg(['mean','sum'])\n",
    "star_wars_age['seen_any']"
   ]
  },
  {
   "cell_type": "markdown",
   "metadata": {},
   "source": [
    "In the 18-29 age bracket there is still a noticable difference in the percentage of survey respondents who have seen star wars vs not seen star wars based on education level. This helps solidify that education level (and not age) is an important factor in whether someone has seen Star Wars or not."
   ]
  },
  {
   "cell_type": "markdown",
   "metadata": {},
   "source": [
    "## Conclusion"
   ]
  },
  {
   "cell_type": "markdown",
   "metadata": {},
   "source": [
    "* Episode 5 was the highest rated movie by respondents\n",
    "* Star Wars Prequels (Episodes 1 - 3) were generally rated lower than the original 3 movies (Episodes 4 - 6)\n",
    "* More men than women have seen Star Wars (both generally and by episode)\n",
    "* Fans strongly prefer the original trilogy to the prequels, whereas non-fans are somewhat indifferent\n",
    "* Non-fans are far less-likely to have seen the movies compared to fans\n",
    "* Education level matters when considering whether a person has seen at least one Star Wars movie\n",
    "\n",
    "**Next Steps**\n",
    "\n",
    "I was very surprised by the education level affecting the movie viewership so significantly and I am curious if this holds for the other fandoms this survey asked about as well (Star Trek, Expanded Universe) or if there are other potential confounding variables (i.e. income level, location). I would want to explore these relationships and see if I could get a better picture of why education data was so interesting."
   ]
  },
  {
   "cell_type": "code",
   "execution_count": null,
   "metadata": {},
   "outputs": [],
   "source": []
  }
 ],
 "metadata": {
  "kernelspec": {
   "display_name": "base",
   "language": "python",
   "name": "python3"
  },
  "language_info": {
   "codemirror_mode": {
    "name": "ipython",
    "version": 3
   },
   "file_extension": ".py",
   "mimetype": "text/x-python",
   "name": "python",
   "nbconvert_exporter": "python",
   "pygments_lexer": "ipython3",
   "version": "3.9.12"
  },
  "vscode": {
   "interpreter": {
    "hash": "3a16f2b93ce47ae6e40329c16db5e433cff9f0137604f08517e04598cb3cb24e"
   }
  }
 },
 "nbformat": 4,
 "nbformat_minor": 1
}
