{
 "cells": [
  {
   "cell_type": "markdown",
   "metadata": {},
   "source": [
    "# I-94 TRAFFIC DATASET\n",
    "\n",
    "In this project, we're going to analyze a dataset about the westbound traffic on the [I-94 Interstate high way](https://en.wikipedia.org/wiki/Interstate_94)  \n",
    "The goal of our analysis is to determine a few indicators of heavy traffic on I-94. These indicators can be weather type, time of the day, time of the week, etc.\n",
    "\n",
    "[Dataset url](https://archive.ics.uci.edu/ml/datasets/Metro+Interstate+Traffic+Volume)  \n",
    "[More information](https://archive.ics.uci.edu/ml/datasets/Metro+Interstate+Traffic+Volume)  \n",
    "\n",
    "\n",
    "## Attribute information:\n",
    "- holiday Categorical US National holidays plus regional holiday, Minnesota State Fair\n",
    "- temp Numeric Average temp in kelvin\n",
    "- rain_1h Numeric Amount in mm of rain that occurred in the hour\n",
    "- snow_1h Numeric Amount in mm of snow that occurred in the hour\n",
    "- clouds_all Numeric Percentage of cloud cover\n",
    "- weather_main Categorical Short textual description of the current weather\n",
    "- weather_description Categorical Longer textual description of the current weather\n",
    "- date_time DateTime Hour of the data collected in local CST time\n",
    "- traffic_volume Numeric Hourly I-94 ATR 301 reported westbound traffic volume"
   ]
  },
  {
   "cell_type": "code",
   "execution_count": 27,
   "metadata": {},
   "outputs": [
    {
     "name": "stdout",
     "output_type": "stream",
     "text": [
      "  holiday    temp  rain_1h  snow_1h  clouds_all weather_main  \\\n",
      "0    None  288.28      0.0      0.0          40       Clouds   \n",
      "1    None  289.36      0.0      0.0          75       Clouds   \n",
      "2    None  289.58      0.0      0.0          90       Clouds   \n",
      "3    None  290.13      0.0      0.0          90       Clouds   \n",
      "4    None  291.14      0.0      0.0          75       Clouds   \n",
      "\n",
      "  weather_description            date_time  traffic_volume  \n",
      "0    scattered clouds  2012-10-02 09:00:00            5545  \n",
      "1       broken clouds  2012-10-02 10:00:00            4516  \n",
      "2     overcast clouds  2012-10-02 11:00:00            4767  \n",
      "3     overcast clouds  2012-10-02 12:00:00            5026  \n",
      "4       broken clouds  2012-10-02 13:00:00            4918  \n",
      "      holiday    temp  rain_1h  snow_1h  clouds_all  weather_main  \\\n",
      "48199    None  283.45      0.0      0.0          75        Clouds   \n",
      "48200    None  282.76      0.0      0.0          90        Clouds   \n",
      "48201    None  282.73      0.0      0.0          90  Thunderstorm   \n",
      "48202    None  282.09      0.0      0.0          90        Clouds   \n",
      "48203    None  282.12      0.0      0.0          90        Clouds   \n",
      "\n",
      "          weather_description            date_time  traffic_volume  \n",
      "48199           broken clouds  2018-09-30 19:00:00            3543  \n",
      "48200         overcast clouds  2018-09-30 20:00:00            2781  \n",
      "48201  proximity thunderstorm  2018-09-30 21:00:00            2159  \n",
      "48202         overcast clouds  2018-09-30 22:00:00            1450  \n",
      "48203         overcast clouds  2018-09-30 23:00:00             954  \n"
     ]
    }
   ],
   "source": [
    "import pandas as pd\n",
    "traffic = pd.read_csv('traffic.csv')\n",
    "\n",
    "# Examine the first five rows\n",
    "print(traffic.head())\n",
    "\n",
    "# Examine the last five rows\n",
    "print(traffic.tail())"
   ]
  },
  {
   "cell_type": "code",
   "execution_count": 28,
   "metadata": {},
   "outputs": [
    {
     "name": "stdout",
     "output_type": "stream",
     "text": [
      "<class 'pandas.core.frame.DataFrame'>\n",
      "RangeIndex: 48204 entries, 0 to 48203\n",
      "Data columns (total 9 columns):\n",
      " #   Column               Non-Null Count  Dtype  \n",
      "---  ------               --------------  -----  \n",
      " 0   holiday              48204 non-null  object \n",
      " 1   temp                 48204 non-null  float64\n",
      " 2   rain_1h              48204 non-null  float64\n",
      " 3   snow_1h              48204 non-null  float64\n",
      " 4   clouds_all           48204 non-null  int64  \n",
      " 5   weather_main         48204 non-null  object \n",
      " 6   weather_description  48204 non-null  object \n",
      " 7   date_time            48204 non-null  object \n",
      " 8   traffic_volume       48204 non-null  int64  \n",
      "dtypes: float64(3), int64(2), object(4)\n",
      "memory usage: 3.3+ MB\n"
     ]
    }
   ],
   "source": [
    "# Information\n",
    "traffic.info()"
   ]
  },
  {
   "cell_type": "markdown",
   "metadata": {},
   "source": [
    "The dataset has 48204 rows and 9 columns  \n",
    "There is no null values at all  \n",
    "Time period: from 2012-10-02 09:00:00 to 2018-09-30 23:00:00"
   ]
  },
  {
   "cell_type": "markdown",
   "metadata": {},
   "source": [
    "## Analyzing Traffic Volume"
   ]
  },
  {
   "cell_type": "code",
   "execution_count": 29,
   "metadata": {},
   "outputs": [
    {
     "data": {
      "text/plain": [
       "(array([8089., 5102., 2839., 4753., 4770., 4342., 7888., 5636., 3857.,\n",
       "         928.]),\n",
       " array([   0.,  728., 1456., 2184., 2912., 3640., 4368., 5096., 5824.,\n",
       "        6552., 7280.]),\n",
       " <BarContainer object of 10 artists>)"
      ]
     },
     "execution_count": 29,
     "metadata": {},
     "output_type": "execute_result"
    },
    {
     "data": {
      "image/png": "[encoded data removed]",
      "text/plain": [
       "<Figure size 432x288 with 1 Axes>"
      ]
     },
     "metadata": {
      "needs_background": "light"
     },
     "output_type": "display_data"
    }
   ],
   "source": [
    "import matplotlib.pyplot as plt\n",
    "%matplotlib inline\n",
    "\n",
    "plt.hist(traffic['traffic_volume'])"
   ]
  },
  {
   "cell_type": "code",
   "execution_count": 30,
   "metadata": {},
   "outputs": [
    {
     "data": {
      "text/plain": [
       "count    48204.000000\n",
       "mean      3259.818355\n",
       "std       1986.860670\n",
       "min          0.000000\n",
       "25%       1193.000000\n",
       "50%       3380.000000\n",
       "75%       4933.000000\n",
       "max       7280.000000\n",
       "Name: traffic_volume, dtype: float64"
      ]
     },
     "execution_count": 30,
     "metadata": {},
     "output_type": "execute_result"
    }
   ],
   "source": [
    "# a few statistics about the traffic_volume column\n",
    "traffic['traffic_volume'].describe()"
   ]
  },
  {
   "cell_type": "markdown",
   "metadata": {},
   "source": [
    "- The traffic volume ranges from 0 to 7280 cars with an average of 3259.8\n",
    "- About 25% of the time, there were only 1,193 cars or fewer passing the station each hour — this probably occurs during the night, or when a road is under construction. However, about 25% of the time, the traffic volume was four times as much (4,933 cars or more)\n",
    "- Because mean and 50% are almost equal so, **in one day, the amount of traffic at peak times can be 4 times higher than normal**\n",
    "- Daytime and nighttime might influence the traffic volume"
   ]
  },
  {
   "cell_type": "markdown",
   "metadata": {},
   "source": [
    "## Traffic Volume: Day vs .Night"
   ]
  },
  {
   "cell_type": "code",
   "execution_count": 31,
   "metadata": {},
   "outputs": [],
   "source": [
    "# Transform the date_time column to datetime\n",
    "traffic['date_time'] = pd.to_datetime(traffic['date_time'])"
   ]
  },
  {
   "cell_type": "code",
   "execution_count": 32,
   "metadata": {},
   "outputs": [],
   "source": [
    "import datetime as dt\n",
    "\n",
    "traffic['hour'] = traffic['date_time'].dt.hour\n",
    "traffic['month'] = traffic['date_time'].dt.month\n",
    "traffic['year'] = traffic['date_time'].dt.year\n",
    "traffic['day_of_week'] = traffic['date_time'].dt.dayofweek"
   ]
  },
  {
   "cell_type": "markdown",
   "metadata": {},
   "source": [
    "- 4 new columns are added by splitting information of the date_time column"
   ]
  },
  {
   "cell_type": "code",
   "execution_count": 33,
   "metadata": {},
   "outputs": [
    {
     "name": "stdout",
     "output_type": "stream",
     "text": [
      "<class 'pandas.core.frame.DataFrame'>\n",
      "RangeIndex: 48204 entries, 0 to 48203\n",
      "Data columns (total 13 columns):\n",
      " #   Column               Non-Null Count  Dtype         \n",
      "---  ------               --------------  -----         \n",
      " 0   holiday              48204 non-null  object        \n",
      " 1   temp                 48204 non-null  float64       \n",
      " 2   rain_1h              48204 non-null  float64       \n",
      " 3   snow_1h              48204 non-null  float64       \n",
      " 4   clouds_all           48204 non-null  int64         \n",
      " 5   weather_main         48204 non-null  object        \n",
      " 6   weather_description  48204 non-null  object        \n",
      " 7   date_time            48204 non-null  datetime64[ns]\n",
      " 8   traffic_volume       48204 non-null  int64         \n",
      " 9   hour                 48204 non-null  int64         \n",
      " 10  month                48204 non-null  int64         \n",
      " 11  year                 48204 non-null  int64         \n",
      " 12  day_of_week          48204 non-null  int64         \n",
      "dtypes: datetime64[ns](1), float64(3), int64(6), object(3)\n",
      "memory usage: 4.8+ MB\n"
     ]
    }
   ],
   "source": [
    "traffic.info()"
   ]
  },
  {
   "cell_type": "markdown",
   "metadata": {},
   "source": [
    "- Let divide the dataset by day and night, each part lasts 12 hours:\n",
    "    - daytime starts from 7 a.m to 7 p.m\n",
    "    - nighttime starts from 7 p.m to 7 a.m of next day"
   ]
  },
  {
   "cell_type": "code",
   "execution_count": 34,
   "metadata": {},
   "outputs": [],
   "source": [
    "traffic_day = traffic.loc[(traffic['hour'] >= 7) & (traffic['hour'] <= 19)]\n",
    "traffic_night = traffic.loc[(traffic['hour'] >=  19) | (traffic['hour'] <= 7)]"
   ]
  },
  {
   "cell_type": "code",
   "execution_count": 35,
   "metadata": {},
   "outputs": [
    {
     "name": "stdout",
     "output_type": "stream",
     "text": [
      "Shape of daytime dataset: (25838, 13)\n",
      "Shape of nighttiem dataset: (26406, 13)\n"
     ]
    }
   ],
   "source": [
    "print(\"Shape of daytime dataset:\", traffic_day.shape)\n",
    "print(\"Shape of nighttiem dataset:\",traffic_night.shape)"
   ]
  },
  {
   "cell_type": "markdown",
   "metadata": {},
   "source": [
    "- The number of rows of the two dataframe is not equal. This is unusual because both of dataset has 12 hours.\n",
    "- **Maybe some data is missing**"
   ]
  },
  {
   "cell_type": "code",
   "execution_count": 51,
   "metadata": {},
   "outputs": [
    {
     "data": {
      "image/png": "[encoded data removed]",
      "text/plain": [
       "<Figure size 792x252 with 2 Axes>"
      ]
     },
     "metadata": {
      "needs_background": "light"
     },
     "output_type": "display_data"
    }
   ],
   "source": [
    "plt.figure(figsize=(11,3.5))\n",
    "\n",
    "plt.subplot(1, 2, 1)\n",
    "plt.hist(traffic_day['traffic_volume'])\n",
    "plt.xlim(-100, 7500)\n",
    "plt.ylim(0, 8000)\n",
    "plt.title('Traffic Volume: Day')\n",
    "plt.ylabel('Frequency')\n",
    "plt.xlabel('Traffic Volume')\n",
    "\n",
    "plt.subplot(1, 2, 2)\n",
    "plt.hist(traffic_night['traffic_volume'])\n",
    "plt.xlim(-100, 7500)\n",
    "plt.ylim(0, 8000)\n",
    "plt.title('Traffic Volume: Night')\n",
    "plt.ylabel('Frequency')\n",
    "plt.xlabel('Traffic Volume')\n",
    "\n",
    "plt.show()\n"
   ]
  },
  {
   "cell_type": "markdown",
   "metadata": {},
   "source": [
    "\n",
    "- Daytime traffic is higher than nighttime. Regularly reaching the milestone of approximately 5.000 cars\n",
    "- Nighttime traffic usually has less than 1.000 - 1.500 cars on the road\n",
    "- Daytime hist has likely symmetrical distribution\n",
    "- Nighttime hist has right skewed distribution"
   ]
  },
  {
   "cell_type": "code",
   "execution_count": 37,
   "metadata": {},
   "outputs": [
    {
     "data": {
      "text/plain": [
       "count    25838.000000\n",
       "mean      4649.292360\n",
       "std       1202.321987\n",
       "min          0.000000\n",
       "25%       4021.000000\n",
       "50%       4736.000000\n",
       "75%       5458.000000\n",
       "max       7280.000000\n",
       "Name: traffic_volume, dtype: float64"
      ]
     },
     "execution_count": 37,
     "metadata": {},
     "output_type": "execute_result"
    }
   ],
   "source": [
    "traffic_day['traffic_volume'].describe()"
   ]
  },
  {
   "cell_type": "code",
   "execution_count": 38,
   "metadata": {},
   "outputs": [
    {
     "data": {
      "text/plain": [
       "count    26406.000000\n",
       "mean      2018.015375\n",
       "std       1713.201969\n",
       "min          0.000000\n",
       "25%        581.000000\n",
       "50%       1485.000000\n",
       "75%       2934.000000\n",
       "max       7260.000000\n",
       "Name: traffic_volume, dtype: float64"
      ]
     },
     "execution_count": 38,
     "metadata": {},
     "output_type": "execute_result"
    }
   ],
   "source": [
    "traffic_night['traffic_volume'].describe()"
   ]
  },
  {
   "cell_type": "markdown",
   "metadata": {},
   "source": [
    "- Focus on values of 25%, 50%, and 75% of both dataset:\n",
    "    - In daytime, the traffic volume is distributed fairly evenly for all hours. That is, there is always an equal number of cars on the road\n",
    "    - In nighttime, the traffic volumn is distributed is unevenly. There are sudden changes at times\n",
    "- The traffic at night is generally light. Our goal is to find indicators of heavy traffic, so we decided to only focus on the daytime data moving forward"
   ]
  },
  {
   "cell_type": "markdown",
   "metadata": {},
   "source": [
    "## Time Indicators\n",
    "One of the possible indicators of heavy traffic is time. There might be more people on the road in a certain month, on a certain day, or at a certain time of day.\n",
    "\n",
    "We're going to look at a few line plots showing how the traffic volume changes according to the following:\n",
    "\n",
    "- Month\n",
    "- Day of the week\n",
    "- Time of day"
   ]
  },
  {
   "cell_type": "code",
   "execution_count": 39,
   "metadata": {},
   "outputs": [
    {
     "data": {
      "text/plain": [
       "month\n",
       "1     4385.217310\n",
       "2     4593.187798\n",
       "3     4761.529676\n",
       "4     4771.232816\n",
       "5     4788.966639\n",
       "6     4791.087488\n",
       "7     4502.628360\n",
       "8     4818.434690\n",
       "9     4755.709916\n",
       "10    4809.481678\n",
       "11    4588.910486\n",
       "12    4276.567081\n",
       "Name: traffic_volume, dtype: float64"
      ]
     },
     "execution_count": 39,
     "metadata": {},
     "output_type": "execute_result"
    }
   ],
   "source": [
    "by_month = traffic_day.groupby('month').mean()\n",
    "by_month['traffic_volume']"
   ]
  },
  {
   "cell_type": "code",
   "execution_count": 40,
   "metadata": {},
   "outputs": [
    {
     "data": {
      "image/png": "[encoded data removed]",
      "text/plain": [
       "<Figure size 432x288 with 1 Axes>"
      ]
     },
     "metadata": {
      "needs_background": "light"
     },
     "output_type": "display_data"
    }
   ],
   "source": [
    "by_month['traffic_volume'].plot.line()\n",
    "plt.title('Traffic volume per month')\n",
    "plt.ylabel('cars')\n",
    "plt.show()"
   ]
  },
  {
   "cell_type": "markdown",
   "metadata": {},
   "source": [
    "- The traffic looks less heavy during cold months (November–February) and more intense during warm months (March–October), with one interesting exception: July. Is there anything special about July? Is traffic significantly less heavy in July each year?\n",
    "\n",
    "- To answer the last question, let's see how the traffic volume changed each year in July."
   ]
  },
  {
   "cell_type": "code",
   "execution_count": 41,
   "metadata": {},
   "outputs": [
    {
     "data": {
      "text/plain": [
       "day_of_week\n",
       "0    4746.208029\n",
       "1    5036.062431\n",
       "2    5141.231163\n",
       "3    5163.688063\n",
       "4    5161.533588\n",
       "5    3884.065668\n",
       "6    3410.368091\n",
       "Name: traffic_volume, dtype: float64"
      ]
     },
     "execution_count": 41,
     "metadata": {},
     "output_type": "execute_result"
    }
   ],
   "source": [
    "by_dayofweek = traffic_day.groupby('day_of_week').mean()\n",
    "by_dayofweek['traffic_volume']  # 0 is Monday, 6 is Sunday"
   ]
  },
  {
   "cell_type": "code",
   "execution_count": 52,
   "metadata": {},
   "outputs": [
    {
     "name": "stderr",
     "output_type": "stream",
     "text": [
      "C:\\Users\\dpn\\AppData\\Local\\Temp\\ipykernel_6132\\3514833169.py:1: SettingWithCopyWarning: \n",
      "A value is trying to be set on a copy of a slice from a DataFrame.\n",
      "Try using .loc[row_indexer,col_indexer] = value instead\n",
      "\n",
      "See the caveats in the documentation: https://pandas.pydata.org/pandas-docs/stable/user_guide/indexing.html#returning-a-view-versus-a-copy\n",
      "  traffic_day['year'] = traffic_day['date_time'].dt.year\n"
     ]
    },
    {
     "data": {
      "image/png": "[encoded data removed]",
      "text/plain": [
       "<Figure size 432x288 with 1 Axes>"
      ]
     },
     "metadata": {
      "needs_background": "light"
     },
     "output_type": "display_data"
    }
   ],
   "source": [
    "traffic_day['year'] = traffic_day['date_time'].dt.year\n",
    "only_july = traffic_day[traffic_day['month'] == 7]\n",
    "only_july.groupby('year').mean()['traffic_volume'].plot.line()\n",
    "plt.show()"
   ]
  },
  {
   "cell_type": "markdown",
   "metadata": {},
   "source": [
    "- Typically, the traffic is pretty heavy in July, similar to the other warm months. The only exception we see is 2016, which had a high decrease in traffic volume. One possible reason for this is road construction — [this article from 2016](https://www.crainsdetroit.com/article/20160728/NEWS/160729841/weekend-construction-i-96-us-23-bridge-work-i-94-lane-closures-i-696) supports this hypothesis.\n",
    "\n",
    "- As a tentative conclusion here, we can say that warm months generally show heavier traffic compared to cold months. In a warm month, you can can expect for each hour of daytime a traffic volume close to 5,000 cars."
   ]
  },
  {
   "cell_type": "markdown",
   "metadata": {},
   "source": [
    "## Time Indicators (II)\n",
    "Let's now look at a more granular indicator: day number.\n",
    "\n"
   ]
  },
  {
   "cell_type": "code",
   "execution_count": 42,
   "metadata": {},
   "outputs": [
    {
     "data": {
      "image/png": "[encoded data removed]",
      "text/plain": [
       "<Figure size 432x288 with 1 Axes>"
      ]
     },
     "metadata": {
      "needs_background": "light"
     },
     "output_type": "display_data"
    }
   ],
   "source": [
    "by_dayofweek['traffic_volume'].plot.line()\n",
    "plt.title('Traffic volume per day of week')\n",
    "plt.ylabel('cars')\n",
    "plt.show()"
   ]
  },
  {
   "cell_type": "markdown",
   "metadata": {},
   "source": [
    "- The traffic volume is significantly heavier on business days compared to the weekends\n",
    "- The weekends, however, will drag down the average values, so we're going to look at the averages separately. To do that, we'll start by splitting the data based on the day type: business day or weekend"
   ]
  },
  {
   "cell_type": "code",
   "execution_count": 43,
   "metadata": {},
   "outputs": [],
   "source": [
    "traffic_day['date_time'].dt.hour\n",
    "bussiness_days = traffic_day.copy()[traffic_day['day_of_week'] <= 4] # 4 == Friday\n",
    "weekend = traffic_day.copy()[traffic_day['day_of_week'] >= 5] # 5 == Saturday\n",
    "by_hour_business = bussiness_days.groupby('hour').mean()\n",
    "by_hour_weekend = weekend.groupby('hour').mean()"
   ]
  },
  {
   "cell_type": "markdown",
   "metadata": {},
   "source": [
    "## Time Indicators (III)\n",
    "Let's now see what values we have based on time of the day. The weekends, however, will drag down the average values, so we're going to look only at the averages separately.\n",
    "\n"
   ]
  },
  {
   "cell_type": "markdown",
   "metadata": {},
   "source": [
    "- We split the dataset so we can focus on plotting the graphs by bussiness and weekend day"
   ]
  },
  {
   "cell_type": "code",
   "execution_count": 44,
   "metadata": {
    "scrolled": true
   },
   "outputs": [
    {
     "data": {
      "image/png": "[encoded data removed]",
      "text/plain": [
       "<Figure size 432x288 with 2 Axes>"
      ]
     },
     "metadata": {
      "needs_background": "light"
     },
     "output_type": "display_data"
    }
   ],
   "source": [
    "fig, (ax1, ax2) = plt.subplots(1, 2, sharex = True, sharey=True)\n",
    "ax1.set_title('Business')\n",
    "ax2.set_title('Weekend')\n",
    "ax1.plot(by_hour_business['traffic_volume'])\n",
    "ax2.plot(by_hour_weekend['traffic_volume'])\n",
    "plt.show()"
   ]
  },
  {
   "cell_type": "markdown",
   "metadata": {},
   "source": [
    "At each hour of the day, the traffic volume is generally higher during business days compared to the weekends. As somehow expected, the rush hours are around 7 and 16 — when most people travel from home to work and back. We see volumes of over 6,000 cars at rush hours:\n",
    "- The traffic is usually heavier during warm months (March–October) compared to cold months (November–February).\n",
    "- The traffic is usually heavier on business days compared to weekends."
   ]
  },
  {
   "cell_type": "markdown",
   "metadata": {},
   "source": [
    "## Weather Indicators"
   ]
  },
  {
   "cell_type": "code",
   "execution_count": 45,
   "metadata": {},
   "outputs": [
    {
     "data": {
      "text/plain": [
       "temp          0.130299\n",
       "rain_1h       0.004714\n",
       "snow_1h       0.000733\n",
       "clouds_all    0.067054\n",
       "Name: traffic_volume, dtype: float64"
      ]
     },
     "execution_count": 45,
     "metadata": {},
     "output_type": "execute_result"
    }
   ],
   "source": [
    "traffic.corr()['traffic_volume'][['temp', 'rain_1h', 'snow_1h', 'clouds_all']]"
   ]
  },
  {
   "cell_type": "markdown",
   "metadata": {},
   "source": [
    "All correlation between traffic_volume and the numerical weather column are low so we didn't find any reliable indicator of heavy traffic"
   ]
  },
  {
   "cell_type": "code",
   "execution_count": 53,
   "metadata": {},
   "outputs": [
    {
     "data": {
      "image/png": "[encoded data removed]",
      "text/plain": [
       "<Figure size 432x288 with 1 Axes>"
      ]
     },
     "metadata": {
      "needs_background": "light"
     },
     "output_type": "display_data"
    }
   ],
   "source": [
    "traffic_day.plot.scatter('traffic_volume', 'temp')\n",
    "plt.ylim(230, 320) # two wrong 0K temperatures mess up the y-axis\n",
    "plt.show()"
   ]
  },
  {
   "cell_type": "markdown",
   "metadata": {},
   "source": [
    "- We can conclude that temperature doesn't look like a solid indicator of heavy traffic.\n",
    "\n",
    "- Let's now look at the other weather-related columns: weather_main and weather_description."
   ]
  },
  {
   "cell_type": "markdown",
   "metadata": {},
   "source": [
    "## Weahter Types"
   ]
  },
  {
   "cell_type": "code",
   "execution_count": 46,
   "metadata": {},
   "outputs": [],
   "source": [
    "by_weather_main = traffic_day.groupby('weather_main').mean()\n",
    "by_weather_description = traffic_day.groupby('weather_description').mean()"
   ]
  },
  {
   "cell_type": "code",
   "execution_count": 47,
   "metadata": {},
   "outputs": [
    {
     "data": {
      "text/html": [
       "<div>\n",
       "<style scoped>\n",
       "    .dataframe tbody tr th:only-of-type {\n",
       "        vertical-align: middle;\n",
       "    }\n",
       "\n",
       "    .dataframe tbody tr th {\n",
       "        vertical-align: top;\n",
       "    }\n",
       "\n",
       "    .dataframe thead th {\n",
       "        text-align: right;\n",
       "    }\n",
       "</style>\n",
       "<table border=\"1\" class=\"dataframe\">\n",
       "  <thead>\n",
       "    <tr style=\"text-align: right;\">\n",
       "      <th></th>\n",
       "      <th>temp</th>\n",
       "      <th>rain_1h</th>\n",
       "      <th>snow_1h</th>\n",
       "      <th>clouds_all</th>\n",
       "      <th>traffic_volume</th>\n",
       "      <th>hour</th>\n",
       "      <th>month</th>\n",
       "      <th>year</th>\n",
       "      <th>day_of_week</th>\n",
       "    </tr>\n",
       "    <tr>\n",
       "      <th>weather_description</th>\n",
       "      <th></th>\n",
       "      <th></th>\n",
       "      <th></th>\n",
       "      <th></th>\n",
       "      <th></th>\n",
       "      <th></th>\n",
       "      <th></th>\n",
       "      <th></th>\n",
       "      <th></th>\n",
       "    </tr>\n",
       "  </thead>\n",
       "  <tbody>\n",
       "    <tr>\n",
       "      <th>SQUALLS</th>\n",
       "      <td>296.730000</td>\n",
       "      <td>1.020000</td>\n",
       "      <td>0.0</td>\n",
       "      <td>75.000000</td>\n",
       "      <td>4211.000000</td>\n",
       "      <td>14.000000</td>\n",
       "      <td>7.000000</td>\n",
       "      <td>2016.000000</td>\n",
       "      <td>2.000000</td>\n",
       "    </tr>\n",
       "    <tr>\n",
       "      <th>Sky is Clear</th>\n",
       "      <td>293.352292</td>\n",
       "      <td>0.000000</td>\n",
       "      <td>0.0</td>\n",
       "      <td>0.000000</td>\n",
       "      <td>4802.848812</td>\n",
       "      <td>12.976242</td>\n",
       "      <td>7.557235</td>\n",
       "      <td>2014.715983</td>\n",
       "      <td>2.896328</td>\n",
       "    </tr>\n",
       "    <tr>\n",
       "      <th>broken clouds</th>\n",
       "      <td>282.400504</td>\n",
       "      <td>0.000000</td>\n",
       "      <td>0.0</td>\n",
       "      <td>72.613417</td>\n",
       "      <td>4715.715045</td>\n",
       "      <td>13.259382</td>\n",
       "      <td>6.672202</td>\n",
       "      <td>2015.264364</td>\n",
       "      <td>2.978080</td>\n",
       "    </tr>\n",
       "    <tr>\n",
       "      <th>drizzle</th>\n",
       "      <td>283.627331</td>\n",
       "      <td>0.143633</td>\n",
       "      <td>0.0</td>\n",
       "      <td>88.578778</td>\n",
       "      <td>4572.176849</td>\n",
       "      <td>12.472669</td>\n",
       "      <td>7.167203</td>\n",
       "      <td>2015.816720</td>\n",
       "      <td>2.977492</td>\n",
       "    </tr>\n",
       "    <tr>\n",
       "      <th>few clouds</th>\n",
       "      <td>284.589033</td>\n",
       "      <td>0.000000</td>\n",
       "      <td>0.0</td>\n",
       "      <td>19.396787</td>\n",
       "      <td>4720.890763</td>\n",
       "      <td>13.155020</td>\n",
       "      <td>6.183936</td>\n",
       "      <td>2015.132530</td>\n",
       "      <td>2.975904</td>\n",
       "    </tr>\n",
       "  </tbody>\n",
       "</table>\n",
       "</div>"
      ],
      "text/plain": [
       "                           temp   rain_1h  snow_1h  clouds_all  \\\n",
       "weather_description                                              \n",
       "SQUALLS              296.730000  1.020000      0.0   75.000000   \n",
       "Sky is Clear         293.352292  0.000000      0.0    0.000000   \n",
       "broken clouds        282.400504  0.000000      0.0   72.613417   \n",
       "drizzle              283.627331  0.143633      0.0   88.578778   \n",
       "few clouds           284.589033  0.000000      0.0   19.396787   \n",
       "\n",
       "                     traffic_volume       hour     month         year  \\\n",
       "weather_description                                                     \n",
       "SQUALLS                 4211.000000  14.000000  7.000000  2016.000000   \n",
       "Sky is Clear            4802.848812  12.976242  7.557235  2014.715983   \n",
       "broken clouds           4715.715045  13.259382  6.672202  2015.264364   \n",
       "drizzle                 4572.176849  12.472669  7.167203  2015.816720   \n",
       "few clouds              4720.890763  13.155020  6.183936  2015.132530   \n",
       "\n",
       "                     day_of_week  \n",
       "weather_description               \n",
       "SQUALLS                 2.000000  \n",
       "Sky is Clear            2.896328  \n",
       "broken clouds           2.978080  \n",
       "drizzle                 2.977492  \n",
       "few clouds              2.975904  "
      ]
     },
     "execution_count": 47,
     "metadata": {},
     "output_type": "execute_result"
    }
   ],
   "source": [
    "by_weather_description.head()"
   ]
  },
  {
   "cell_type": "code",
   "execution_count": 48,
   "metadata": {},
   "outputs": [
    {
     "data": {
      "text/html": [
       "<div>\n",
       "<style scoped>\n",
       "    .dataframe tbody tr th:only-of-type {\n",
       "        vertical-align: middle;\n",
       "    }\n",
       "\n",
       "    .dataframe tbody tr th {\n",
       "        vertical-align: top;\n",
       "    }\n",
       "\n",
       "    .dataframe thead th {\n",
       "        text-align: right;\n",
       "    }\n",
       "</style>\n",
       "<table border=\"1\" class=\"dataframe\">\n",
       "  <thead>\n",
       "    <tr style=\"text-align: right;\">\n",
       "      <th></th>\n",
       "      <th>temp</th>\n",
       "      <th>rain_1h</th>\n",
       "      <th>snow_1h</th>\n",
       "      <th>clouds_all</th>\n",
       "      <th>traffic_volume</th>\n",
       "      <th>hour</th>\n",
       "      <th>month</th>\n",
       "      <th>year</th>\n",
       "      <th>day_of_week</th>\n",
       "    </tr>\n",
       "    <tr>\n",
       "      <th>weather_main</th>\n",
       "      <th></th>\n",
       "      <th></th>\n",
       "      <th></th>\n",
       "      <th></th>\n",
       "      <th></th>\n",
       "      <th></th>\n",
       "      <th></th>\n",
       "      <th></th>\n",
       "      <th></th>\n",
       "    </tr>\n",
       "  </thead>\n",
       "  <tbody>\n",
       "    <tr>\n",
       "      <th>Clear</th>\n",
       "      <td>283.884100</td>\n",
       "      <td>0.000000</td>\n",
       "      <td>0.000000</td>\n",
       "      <td>1.676447</td>\n",
       "      <td>4661.666879</td>\n",
       "      <td>12.958539</td>\n",
       "      <td>6.492107</td>\n",
       "      <td>2015.609791</td>\n",
       "      <td>3.143518</td>\n",
       "    </tr>\n",
       "    <tr>\n",
       "      <th>Clouds</th>\n",
       "      <td>282.971967</td>\n",
       "      <td>0.000000</td>\n",
       "      <td>0.000000</td>\n",
       "      <td>62.700890</td>\n",
       "      <td>4746.375927</td>\n",
       "      <td>13.386734</td>\n",
       "      <td>6.391820</td>\n",
       "      <td>2015.321784</td>\n",
       "      <td>2.999894</td>\n",
       "    </tr>\n",
       "    <tr>\n",
       "      <th>Drizzle</th>\n",
       "      <td>284.432372</td>\n",
       "      <td>0.168234</td>\n",
       "      <td>0.000000</td>\n",
       "      <td>84.781609</td>\n",
       "      <td>4712.699060</td>\n",
       "      <td>12.825496</td>\n",
       "      <td>7.074190</td>\n",
       "      <td>2015.895507</td>\n",
       "      <td>2.921630</td>\n",
       "    </tr>\n",
       "    <tr>\n",
       "      <th>Fog</th>\n",
       "      <td>277.378271</td>\n",
       "      <td>0.157739</td>\n",
       "      <td>0.001356</td>\n",
       "      <td>66.281915</td>\n",
       "      <td>4298.933511</td>\n",
       "      <td>10.648936</td>\n",
       "      <td>6.625000</td>\n",
       "      <td>2015.803191</td>\n",
       "      <td>2.827128</td>\n",
       "    </tr>\n",
       "    <tr>\n",
       "      <th>Haze</th>\n",
       "      <td>275.726381</td>\n",
       "      <td>0.060947</td>\n",
       "      <td>0.000000</td>\n",
       "      <td>63.916667</td>\n",
       "      <td>4545.434932</td>\n",
       "      <td>12.780822</td>\n",
       "      <td>5.873288</td>\n",
       "      <td>2015.567352</td>\n",
       "      <td>2.748858</td>\n",
       "    </tr>\n",
       "  </tbody>\n",
       "</table>\n",
       "</div>"
      ],
      "text/plain": [
       "                    temp   rain_1h   snow_1h  clouds_all  traffic_volume  \\\n",
       "weather_main                                                               \n",
       "Clear         283.884100  0.000000  0.000000    1.676447     4661.666879   \n",
       "Clouds        282.971967  0.000000  0.000000   62.700890     4746.375927   \n",
       "Drizzle       284.432372  0.168234  0.000000   84.781609     4712.699060   \n",
       "Fog           277.378271  0.157739  0.001356   66.281915     4298.933511   \n",
       "Haze          275.726381  0.060947  0.000000   63.916667     4545.434932   \n",
       "\n",
       "                   hour     month         year  day_of_week  \n",
       "weather_main                                                 \n",
       "Clear         12.958539  6.492107  2015.609791     3.143518  \n",
       "Clouds        13.386734  6.391820  2015.321784     2.999894  \n",
       "Drizzle       12.825496  7.074190  2015.895507     2.921630  \n",
       "Fog           10.648936  6.625000  2015.803191     2.827128  \n",
       "Haze          12.780822  5.873288  2015.567352     2.748858  "
      ]
     },
     "execution_count": 48,
     "metadata": {},
     "output_type": "execute_result"
    }
   ],
   "source": [
    "by_weather_main.head()"
   ]
  },
  {
   "cell_type": "code",
   "execution_count": 49,
   "metadata": {},
   "outputs": [
    {
     "data": {
      "image/png": "[encoded data removed]",
      "text/plain": [
       "<Figure size 432x288 with 1 Axes>"
      ]
     },
     "metadata": {
      "needs_background": "light"
     },
     "output_type": "display_data"
    }
   ],
   "source": [
    "plt.barh(by_weather_main.index, by_weather_main['traffic_volume'])\n",
    "plt.show()"
   ]
  },
  {
   "cell_type": "markdown",
   "metadata": {},
   "source": [
    "All weather type  have pretty similar traffic volume. There is no traffic volume exceeding 5,000 cars. This makes finding a heavy traffic indicator more difficult. Let's also group by weather_description, which has a more granular weather classification"
   ]
  },
  {
   "cell_type": "code",
   "execution_count": 50,
   "metadata": {},
   "outputs": [
    {
     "data": {
      "image/png": "[encoded data removed]",
      "text/plain": [
       "<Figure size 1080x1080 with 1 Axes>"
      ]
     },
     "metadata": {
      "needs_background": "light"
     },
     "output_type": "display_data"
    }
   ],
   "source": [
    "plt.figure(figsize=(15,15))\n",
    "plt.barh(by_weather_description.index, by_weather_description['traffic_volume'])\n",
    "plt.show()"
   ]
  },
  {
   "cell_type": "markdown",
   "metadata": {},
   "source": [
    "It looks like there are three weather types where traffic volume exceeds 5,000:\n",
    "\n",
    "- Shower snow\n",
    "- Light rain and snow\n",
    "- Proximity thunderstorm with drizzle  \n",
    "\n",
    "It's not clear why these weather types have the highest average traffic values — this is bad weather, but not that bad. Perhaps more people take their cars out of the garage when the weather is bad instead of riding a bike or walking."
   ]
  },
  {
   "cell_type": "markdown",
   "metadata": {},
   "source": [
    "## Conclusion\n",
    "In this project, we tried to find a few indicators of heavy traffic on the I-94 Interstate highway. We managed to find two types of indicators:\n",
    "\n",
    "- Time indicators\n",
    "    - The traffic is usually heavier during warm months (March–October) compared to cold months (November–February).\n",
    "    - The traffic is usually heavier on business days compared to the weekends.\n",
    "    - On business days, the rush hours are around 7 and 16.\n",
    "- Weather indicators\n",
    "    - Shower snow\n",
    "    - Light rain and snow\n",
    "    - Proximity thunderstorm with drizzle"
   ]
  },
  {
   "cell_type": "markdown",
   "metadata": {},
   "source": [
    "## Further steps\n",
    "- Use the nighttime data to look for heavy traffic indicators.\n",
    "- Find more time and weather indicators."
   ]
  }
 ],
 "metadata": {
  "kernelspec": {
   "display_name": "base",
   "language": "python",
   "name": "python3"
  },
  "language_info": {
   "codemirror_mode": {
    "name": "ipython",
    "version": 3
   },
   "file_extension": ".py",
   "mimetype": "text/x-python",
   "name": "python",
   "nbconvert_exporter": "python",
   "pygments_lexer": "ipython3",
   "version": "3.9.12"
  },
  "vscode": {
   "interpreter": {
    "hash": "3a16f2b93ce47ae6e40329c16db5e433cff9f0137604f08517e04598cb3cb24e"
   }
  }
 },
 "nbformat": 4,
 "nbformat_minor": 4
}
